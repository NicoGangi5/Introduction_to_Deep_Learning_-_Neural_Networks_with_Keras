{
  "nbformat": 4,
  "nbformat_minor": 0,
  "metadata": {
    "colab": {
      "name": "FinalProject_4.ipynb",
      "provenance": [],
      "collapsed_sections": [],
      "authorship_tag": "ABX9TyMPfnN8nnCQavxrT+jY2YM8",
      "include_colab_link": true
    },
    "kernelspec": {
      "name": "python3",
      "display_name": "Python 3"
    }
  },
  "cells": [
    {
      "cell_type": "markdown",
      "metadata": {
        "id": "view-in-github",
        "colab_type": "text"
      },
      "source": [
        "<a href=\"https://colab.research.google.com/github/NicoGangi5/Introduction_to_Deep_Learning_-_Neural_Networks_with_Keras/blob/main/FinalProject_4.ipynb\" target=\"_parent\"><img src=\"https://colab.research.google.com/assets/colab-badge.svg\" alt=\"Open In Colab\"/></a>"
      ]
    },
    {
      "cell_type": "code",
      "metadata": {
        "id": "nGwzROYRg2La"
      },
      "source": [
        "import pandas as pd\n",
        "import numpy as np\n",
        "from sklearn.model_selection import train_test_split\n",
        "import keras\n",
        "from keras.models import Sequential\n",
        "from keras.layers import Dense\n",
        "from sklearn.metrics import mean_squared_error"
      ],
      "execution_count": null,
      "outputs": []
    },
    {
      "cell_type": "code",
      "metadata": {
        "id": "CIu-NwFFuwhU",
        "colab": {
          "base_uri": "https://localhost:8080/",
          "height": 204
        },
        "outputId": "569b4034-4e78-4409-a5fb-7364cfbf6d8c"
      },
      "source": [
        "concrete_data = pd.read_csv('https://s3-api.us-geo.objectstorage.softlayer.net/cf-courses-data/CognitiveClass/DL0101EN/labs/data/concrete_data.csv')\n",
        "concrete_data.head()"
      ],
      "execution_count": null,
      "outputs": [
        {
          "output_type": "execute_result",
          "data": {
            "text/html": [
              "<div>\n",
              "<style scoped>\n",
              "    .dataframe tbody tr th:only-of-type {\n",
              "        vertical-align: middle;\n",
              "    }\n",
              "\n",
              "    .dataframe tbody tr th {\n",
              "        vertical-align: top;\n",
              "    }\n",
              "\n",
              "    .dataframe thead th {\n",
              "        text-align: right;\n",
              "    }\n",
              "</style>\n",
              "<table border=\"1\" class=\"dataframe\">\n",
              "  <thead>\n",
              "    <tr style=\"text-align: right;\">\n",
              "      <th></th>\n",
              "      <th>Cement</th>\n",
              "      <th>Blast Furnace Slag</th>\n",
              "      <th>Fly Ash</th>\n",
              "      <th>Water</th>\n",
              "      <th>Superplasticizer</th>\n",
              "      <th>Coarse Aggregate</th>\n",
              "      <th>Fine Aggregate</th>\n",
              "      <th>Age</th>\n",
              "      <th>Strength</th>\n",
              "    </tr>\n",
              "  </thead>\n",
              "  <tbody>\n",
              "    <tr>\n",
              "      <th>0</th>\n",
              "      <td>540.0</td>\n",
              "      <td>0.0</td>\n",
              "      <td>0.0</td>\n",
              "      <td>162.0</td>\n",
              "      <td>2.5</td>\n",
              "      <td>1040.0</td>\n",
              "      <td>676.0</td>\n",
              "      <td>28</td>\n",
              "      <td>79.99</td>\n",
              "    </tr>\n",
              "    <tr>\n",
              "      <th>1</th>\n",
              "      <td>540.0</td>\n",
              "      <td>0.0</td>\n",
              "      <td>0.0</td>\n",
              "      <td>162.0</td>\n",
              "      <td>2.5</td>\n",
              "      <td>1055.0</td>\n",
              "      <td>676.0</td>\n",
              "      <td>28</td>\n",
              "      <td>61.89</td>\n",
              "    </tr>\n",
              "    <tr>\n",
              "      <th>2</th>\n",
              "      <td>332.5</td>\n",
              "      <td>142.5</td>\n",
              "      <td>0.0</td>\n",
              "      <td>228.0</td>\n",
              "      <td>0.0</td>\n",
              "      <td>932.0</td>\n",
              "      <td>594.0</td>\n",
              "      <td>270</td>\n",
              "      <td>40.27</td>\n",
              "    </tr>\n",
              "    <tr>\n",
              "      <th>3</th>\n",
              "      <td>332.5</td>\n",
              "      <td>142.5</td>\n",
              "      <td>0.0</td>\n",
              "      <td>228.0</td>\n",
              "      <td>0.0</td>\n",
              "      <td>932.0</td>\n",
              "      <td>594.0</td>\n",
              "      <td>365</td>\n",
              "      <td>41.05</td>\n",
              "    </tr>\n",
              "    <tr>\n",
              "      <th>4</th>\n",
              "      <td>198.6</td>\n",
              "      <td>132.4</td>\n",
              "      <td>0.0</td>\n",
              "      <td>192.0</td>\n",
              "      <td>0.0</td>\n",
              "      <td>978.4</td>\n",
              "      <td>825.5</td>\n",
              "      <td>360</td>\n",
              "      <td>44.30</td>\n",
              "    </tr>\n",
              "  </tbody>\n",
              "</table>\n",
              "</div>"
            ],
            "text/plain": [
              "   Cement  Blast Furnace Slag  Fly Ash  ...  Fine Aggregate  Age  Strength\n",
              "0   540.0                 0.0      0.0  ...           676.0   28     79.99\n",
              "1   540.0                 0.0      0.0  ...           676.0   28     61.89\n",
              "2   332.5               142.5      0.0  ...           594.0  270     40.27\n",
              "3   332.5               142.5      0.0  ...           594.0  365     41.05\n",
              "4   198.6               132.4      0.0  ...           825.5  360     44.30\n",
              "\n",
              "[5 rows x 9 columns]"
            ]
          },
          "metadata": {
            "tags": []
          },
          "execution_count": 2
        }
      ]
    },
    {
      "cell_type": "code",
      "metadata": {
        "id": "HpDjEe5HuzHx",
        "colab": {
          "base_uri": "https://localhost:8080/"
        },
        "outputId": "df10c5fb-3ad8-4f60-99da-7338916112a0"
      },
      "source": [
        "concrete_data.shape"
      ],
      "execution_count": null,
      "outputs": [
        {
          "output_type": "execute_result",
          "data": {
            "text/plain": [
              "(1030, 9)"
            ]
          },
          "metadata": {
            "tags": []
          },
          "execution_count": 3
        }
      ]
    },
    {
      "cell_type": "code",
      "metadata": {
        "id": "KfTO6LAVu-Py",
        "colab": {
          "base_uri": "https://localhost:8080/"
        },
        "outputId": "a01bba84-d9bc-4b14-9c65-037f1a2479f9"
      },
      "source": [
        "concrete_data_columns = concrete_data.columns\n",
        "\n",
        "predictors = concrete_data[concrete_data_columns[concrete_data_columns != 'Strength']] # all columns except Strength\n",
        "target = concrete_data['Strength'] # Strength column\n",
        "\n",
        "predictors_norm = (predictors - predictors.mean()) / predictors.std()\n",
        "\n",
        "# Split the dataset into training and test \n",
        "X_train, X_test, y_train, y_test = train_test_split( predictors_norm, target, test_size=0.3, random_state=4)\n",
        "print ('Train set:', X_train.shape,  y_train.shape)\n",
        "print ('Test set:', X_test.shape,  y_test.shape)\n",
        "\n",
        "n_cols = predictors_norm.shape[1] # number of predictors\n",
        "print('Number of predictors norm:', n_cols)"
      ],
      "execution_count": null,
      "outputs": [
        {
          "output_type": "stream",
          "text": [
            "Train set: (721, 8) (721,)\n",
            "Test set: (309, 8) (309,)\n",
            "Number of predictors norm: 8\n"
          ],
          "name": "stdout"
        }
      ]
    },
    {
      "cell_type": "code",
      "metadata": {
        "id": "LZNHjcEzvZtv",
        "colab": {
          "base_uri": "https://localhost:8080/",
          "height": 204
        },
        "outputId": "667f9f9b-153d-4298-bad2-bfad0de7ecca"
      },
      "source": [
        "predictors_norm.head()"
      ],
      "execution_count": null,
      "outputs": [
        {
          "output_type": "execute_result",
          "data": {
            "text/html": [
              "<div>\n",
              "<style scoped>\n",
              "    .dataframe tbody tr th:only-of-type {\n",
              "        vertical-align: middle;\n",
              "    }\n",
              "\n",
              "    .dataframe tbody tr th {\n",
              "        vertical-align: top;\n",
              "    }\n",
              "\n",
              "    .dataframe thead th {\n",
              "        text-align: right;\n",
              "    }\n",
              "</style>\n",
              "<table border=\"1\" class=\"dataframe\">\n",
              "  <thead>\n",
              "    <tr style=\"text-align: right;\">\n",
              "      <th></th>\n",
              "      <th>Cement</th>\n",
              "      <th>Blast Furnace Slag</th>\n",
              "      <th>Fly Ash</th>\n",
              "      <th>Water</th>\n",
              "      <th>Superplasticizer</th>\n",
              "      <th>Coarse Aggregate</th>\n",
              "      <th>Fine Aggregate</th>\n",
              "      <th>Age</th>\n",
              "    </tr>\n",
              "  </thead>\n",
              "  <tbody>\n",
              "    <tr>\n",
              "      <th>0</th>\n",
              "      <td>2.476712</td>\n",
              "      <td>-0.856472</td>\n",
              "      <td>-0.846733</td>\n",
              "      <td>-0.916319</td>\n",
              "      <td>-0.620147</td>\n",
              "      <td>0.862735</td>\n",
              "      <td>-1.217079</td>\n",
              "      <td>-0.279597</td>\n",
              "    </tr>\n",
              "    <tr>\n",
              "      <th>1</th>\n",
              "      <td>2.476712</td>\n",
              "      <td>-0.856472</td>\n",
              "      <td>-0.846733</td>\n",
              "      <td>-0.916319</td>\n",
              "      <td>-0.620147</td>\n",
              "      <td>1.055651</td>\n",
              "      <td>-1.217079</td>\n",
              "      <td>-0.279597</td>\n",
              "    </tr>\n",
              "    <tr>\n",
              "      <th>2</th>\n",
              "      <td>0.491187</td>\n",
              "      <td>0.795140</td>\n",
              "      <td>-0.846733</td>\n",
              "      <td>2.174405</td>\n",
              "      <td>-1.038638</td>\n",
              "      <td>-0.526262</td>\n",
              "      <td>-2.239829</td>\n",
              "      <td>3.551340</td>\n",
              "    </tr>\n",
              "    <tr>\n",
              "      <th>3</th>\n",
              "      <td>0.491187</td>\n",
              "      <td>0.795140</td>\n",
              "      <td>-0.846733</td>\n",
              "      <td>2.174405</td>\n",
              "      <td>-1.038638</td>\n",
              "      <td>-0.526262</td>\n",
              "      <td>-2.239829</td>\n",
              "      <td>5.055221</td>\n",
              "    </tr>\n",
              "    <tr>\n",
              "      <th>4</th>\n",
              "      <td>-0.790075</td>\n",
              "      <td>0.678079</td>\n",
              "      <td>-0.846733</td>\n",
              "      <td>0.488555</td>\n",
              "      <td>-1.038638</td>\n",
              "      <td>0.070492</td>\n",
              "      <td>0.647569</td>\n",
              "      <td>4.976069</td>\n",
              "    </tr>\n",
              "  </tbody>\n",
              "</table>\n",
              "</div>"
            ],
            "text/plain": [
              "     Cement  Blast Furnace Slag  ...  Fine Aggregate       Age\n",
              "0  2.476712           -0.856472  ...       -1.217079 -0.279597\n",
              "1  2.476712           -0.856472  ...       -1.217079 -0.279597\n",
              "2  0.491187            0.795140  ...       -2.239829  3.551340\n",
              "3  0.491187            0.795140  ...       -2.239829  5.055221\n",
              "4 -0.790075            0.678079  ...        0.647569  4.976069\n",
              "\n",
              "[5 rows x 8 columns]"
            ]
          },
          "metadata": {
            "tags": []
          },
          "execution_count": 5
        }
      ]
    },
    {
      "cell_type": "code",
      "metadata": {
        "id": "6hRxmKjKvbJw"
      },
      "source": [
        "# define regression model\n",
        "def regression_model():\n",
        "    # create model\n",
        "    model = Sequential()\n",
        "    model.add(Dense(10, activation='relu', input_shape=(n_cols,)))\n",
        "    model.add(Dense(10, activation='relu'))\n",
        "    model.add(Dense(10, activation='relu'))\n",
        "    model.add(Dense(1))\n",
        "    \n",
        "    # compile model\n",
        "    model.compile(optimizer='adam', loss='mean_squared_error')\n",
        "    return model"
      ],
      "execution_count": null,
      "outputs": []
    },
    {
      "cell_type": "code",
      "metadata": {
        "id": "NFRm0FJ7vd8O",
        "colab": {
          "base_uri": "https://localhost:8080/"
        },
        "outputId": "9c54e3c6-7195-4e24-d4af-18dc51f8822d"
      },
      "source": [
        "# build the model\n",
        "model = regression_model()\n",
        "\n",
        "# fit the model\n",
        "model.fit(X_train, y_train, epochs=50, verbose=1)"
      ],
      "execution_count": null,
      "outputs": [
        {
          "output_type": "stream",
          "text": [
            "Epoch 1/50\n",
            "23/23 [==============================] - 0s 1ms/step - loss: 1581.6757\n",
            "Epoch 2/50\n",
            "23/23 [==============================] - 0s 985us/step - loss: 1548.4500\n",
            "Epoch 3/50\n",
            "23/23 [==============================] - 0s 960us/step - loss: 1508.7471\n",
            "Epoch 4/50\n",
            "23/23 [==============================] - 0s 996us/step - loss: 1457.9993\n",
            "Epoch 5/50\n",
            "23/23 [==============================] - 0s 960us/step - loss: 1387.7765\n",
            "Epoch 6/50\n",
            "23/23 [==============================] - 0s 999us/step - loss: 1287.4280\n",
            "Epoch 7/50\n",
            "23/23 [==============================] - 0s 1ms/step - loss: 1146.4987\n",
            "Epoch 8/50\n",
            "23/23 [==============================] - 0s 1ms/step - loss: 967.1952\n",
            "Epoch 9/50\n",
            "23/23 [==============================] - 0s 1ms/step - loss: 761.1841\n",
            "Epoch 10/50\n",
            "23/23 [==============================] - 0s 1ms/step - loss: 559.5325\n",
            "Epoch 11/50\n",
            "23/23 [==============================] - 0s 1ms/step - loss: 407.4594\n",
            "Epoch 12/50\n",
            "23/23 [==============================] - 0s 1ms/step - loss: 316.9149\n",
            "Epoch 13/50\n",
            "23/23 [==============================] - 0s 961us/step - loss: 271.2304\n",
            "Epoch 14/50\n",
            "23/23 [==============================] - 0s 1ms/step - loss: 243.1109\n",
            "Epoch 15/50\n",
            "23/23 [==============================] - 0s 1ms/step - loss: 227.1268\n",
            "Epoch 16/50\n",
            "23/23 [==============================] - 0s 990us/step - loss: 215.8546\n",
            "Epoch 17/50\n",
            "23/23 [==============================] - 0s 1ms/step - loss: 206.5179\n",
            "Epoch 18/50\n",
            "23/23 [==============================] - 0s 1ms/step - loss: 200.3052\n",
            "Epoch 19/50\n",
            "23/23 [==============================] - 0s 1ms/step - loss: 193.8429\n",
            "Epoch 20/50\n",
            "23/23 [==============================] - 0s 1ms/step - loss: 189.3068\n",
            "Epoch 21/50\n",
            "23/23 [==============================] - 0s 1ms/step - loss: 183.6660\n",
            "Epoch 22/50\n",
            "23/23 [==============================] - 0s 1ms/step - loss: 179.1441\n",
            "Epoch 23/50\n",
            "23/23 [==============================] - 0s 1ms/step - loss: 174.4801\n",
            "Epoch 24/50\n",
            "23/23 [==============================] - 0s 1ms/step - loss: 170.0822\n",
            "Epoch 25/50\n",
            "23/23 [==============================] - 0s 932us/step - loss: 165.9368\n",
            "Epoch 26/50\n",
            "23/23 [==============================] - 0s 969us/step - loss: 161.8802\n",
            "Epoch 27/50\n",
            "23/23 [==============================] - 0s 1ms/step - loss: 158.1257\n",
            "Epoch 28/50\n",
            "23/23 [==============================] - 0s 1ms/step - loss: 154.6427\n",
            "Epoch 29/50\n",
            "23/23 [==============================] - 0s 1ms/step - loss: 151.6269\n",
            "Epoch 30/50\n",
            "23/23 [==============================] - 0s 1ms/step - loss: 147.7957\n",
            "Epoch 31/50\n",
            "23/23 [==============================] - 0s 1ms/step - loss: 145.1632\n",
            "Epoch 32/50\n",
            "23/23 [==============================] - 0s 1ms/step - loss: 141.8289\n",
            "Epoch 33/50\n",
            "23/23 [==============================] - 0s 1ms/step - loss: 139.3356\n",
            "Epoch 34/50\n",
            "23/23 [==============================] - 0s 1ms/step - loss: 136.7199\n",
            "Epoch 35/50\n",
            "23/23 [==============================] - 0s 1ms/step - loss: 134.1556\n",
            "Epoch 36/50\n",
            "23/23 [==============================] - 0s 1ms/step - loss: 131.7854\n",
            "Epoch 37/50\n",
            "23/23 [==============================] - 0s 990us/step - loss: 129.4790\n",
            "Epoch 38/50\n",
            "23/23 [==============================] - 0s 981us/step - loss: 127.1755\n",
            "Epoch 39/50\n",
            "23/23 [==============================] - 0s 1ms/step - loss: 125.3115\n",
            "Epoch 40/50\n",
            "23/23 [==============================] - 0s 1ms/step - loss: 123.0322\n",
            "Epoch 41/50\n",
            "23/23 [==============================] - 0s 1ms/step - loss: 121.4152\n",
            "Epoch 42/50\n",
            "23/23 [==============================] - 0s 1ms/step - loss: 119.7103\n",
            "Epoch 43/50\n",
            "23/23 [==============================] - 0s 1ms/step - loss: 118.0856\n",
            "Epoch 44/50\n",
            "23/23 [==============================] - 0s 944us/step - loss: 115.7693\n",
            "Epoch 45/50\n",
            "23/23 [==============================] - 0s 1ms/step - loss: 113.8416\n",
            "Epoch 46/50\n",
            "23/23 [==============================] - 0s 1ms/step - loss: 112.2521\n",
            "Epoch 47/50\n",
            "23/23 [==============================] - 0s 1ms/step - loss: 110.0964\n",
            "Epoch 48/50\n",
            "23/23 [==============================] - 0s 989us/step - loss: 108.6418\n",
            "Epoch 49/50\n",
            "23/23 [==============================] - 0s 966us/step - loss: 107.0475\n",
            "Epoch 50/50\n",
            "23/23 [==============================] - 0s 1ms/step - loss: 105.3002\n"
          ],
          "name": "stdout"
        },
        {
          "output_type": "execute_result",
          "data": {
            "text/plain": [
              "<tensorflow.python.keras.callbacks.History at 0x7fe95a162e80>"
            ]
          },
          "metadata": {
            "tags": []
          },
          "execution_count": 7
        }
      ]
    },
    {
      "cell_type": "code",
      "metadata": {
        "id": "jsm_wapuvkod",
        "colab": {
          "base_uri": "https://localhost:8080/"
        },
        "outputId": "e9d3a5fb-71be-4191-d132-bd88dbe171d5"
      },
      "source": [
        "# predict using X_test\n",
        "y_pred = model.predict(X_test)\n",
        "\n",
        "loss = mean_squared_error(y_test, y_pred)\n",
        "mean = np.mean(loss)\n",
        "standard_deviation = np.std(loss)\n",
        "\n",
        "print(\"Mean Squared error:\", mean)\n",
        "print(\"Standar Deviation:\", standard_deviation)"
      ],
      "execution_count": null,
      "outputs": [
        {
          "output_type": "stream",
          "text": [
            "Mean Squared error: 133.24502833593291\n",
            "Standar Deviation: 0.0\n"
          ],
          "name": "stdout"
        }
      ]
    },
    {
      "cell_type": "code",
      "metadata": {
        "id": "prnsH9gpvoZt",
        "colab": {
          "base_uri": "https://localhost:8080/"
        },
        "outputId": "8042be12-bb7d-429b-ff6d-ab5b111d322e"
      },
      "source": [
        "# Repeat 50 times\n",
        "total_mean_squared_errors = 50\n",
        "epochs = 50\n",
        "mean_squared_errors = []\n",
        "for i in range(0, total_mean_squared_errors):\n",
        "    # Split the dataset into training and test \n",
        "    X_train, X_test, y_train, y_test = train_test_split(predictors_norm, target, test_size=0.3, random_state=i)\n",
        "\n",
        "    # fit the model\n",
        "    model.fit(X_train, y_train, epochs=epochs, verbose=0)\n",
        "\n",
        "    # evaluate the model\n",
        "    MSE = model.evaluate(X_test, y_test, verbose=0)\n",
        "    print(\"MSE \"+str(i+1)+\": \"+str(MSE))\n",
        "\n",
        "    # predict using X_test\n",
        "    y_pred = model.predict(X_test)\n",
        "    mean_square_error = mean_squared_error(y_test, y_pred)\n",
        "    mean_squared_errors.append(mean_square_error)\n",
        "\n",
        "mean_squared_errors = np.array(mean_squared_errors)\n",
        "mean = np.mean(mean_squared_errors)\n",
        "standard_deviation = np.std(mean_squared_errors)\n",
        "\n",
        "print('\\n')\n",
        "print(\"Below is the mean and standard deviation of \" +str(total_mean_squared_errors) + \" mean squared errors without normalized data. Total number of epochs for each training is: \" +str(epochs) + \"\\n\")\n",
        "print(\"Mean: \"+str(mean))\n",
        "print(\"Standard Deviation: \"+str(standard_deviation))"
      ],
      "execution_count": null,
      "outputs": [
        {
          "output_type": "stream",
          "text": [
            "MSE 1: 60.43968200683594\n",
            "MSE 2: 55.324981689453125\n",
            "MSE 3: 39.623313903808594\n",
            "MSE 4: 39.51395797729492\n",
            "MSE 5: 38.21044158935547\n",
            "MSE 6: 36.760555267333984\n",
            "MSE 7: 41.43869400024414\n",
            "MSE 8: 30.09797477722168\n",
            "MSE 9: 33.42205047607422\n",
            "MSE 10: 32.184871673583984\n",
            "MSE 11: 28.433521270751953\n",
            "MSE 12: 29.861072540283203\n",
            "MSE 13: 31.154325485229492\n",
            "MSE 14: 34.64802169799805\n",
            "MSE 15: 26.514680862426758\n",
            "MSE 16: 22.901105880737305\n",
            "MSE 17: 25.904829025268555\n",
            "MSE 18: 26.414730072021484\n",
            "MSE 19: 25.891191482543945\n",
            "MSE 20: 26.275222778320312\n",
            "MSE 21: 24.367355346679688\n",
            "MSE 22: 24.362707138061523\n",
            "MSE 23: 23.927417755126953\n",
            "MSE 24: 21.834379196166992\n",
            "MSE 25: 28.28553009033203\n",
            "MSE 26: 27.809537887573242\n",
            "MSE 27: 24.393835067749023\n",
            "MSE 28: 23.80508041381836\n",
            "MSE 29: 26.74079132080078\n",
            "MSE 30: 23.867477416992188\n",
            "MSE 31: 22.685836791992188\n",
            "MSE 32: 22.012914657592773\n",
            "MSE 33: 22.444482803344727\n",
            "MSE 34: 21.338666915893555\n",
            "MSE 35: 26.403684616088867\n",
            "MSE 36: 28.522220611572266\n",
            "MSE 37: 20.306583404541016\n",
            "MSE 38: 24.426233291625977\n",
            "MSE 39: 26.125259399414062\n",
            "MSE 40: 19.597801208496094\n",
            "MSE 41: 25.019742965698242\n",
            "MSE 42: 20.764028549194336\n",
            "MSE 43: 22.309284210205078\n",
            "MSE 44: 22.185226440429688\n",
            "MSE 45: 26.90992546081543\n",
            "MSE 46: 22.355083465576172\n",
            "MSE 47: 22.704017639160156\n",
            "MSE 48: 19.87617301940918\n",
            "MSE 49: 23.822601318359375\n",
            "MSE 50: 23.445959091186523\n",
            "\n",
            "\n",
            "Below is the mean and standard deviation of 50 mean squared errors without normalized data. Total number of epochs for each training is: 50\n",
            "\n",
            "Mean: 27.953301744282104\n",
            "Standard Deviation: 8.11312592114318\n"
          ],
          "name": "stdout"
        }
      ]
    }
  ]
}