{
  "nbformat": 4,
  "nbformat_minor": 0,
  "metadata": {
    "colab": {
      "name": "ConvolutionalNeuralNetworkswithKeras.ipynb",
      "provenance": [],
      "authorship_tag": "ABX9TyO9a4ZcZRpZkdBoizBplTuR",
      "include_colab_link": true
    },
    "kernelspec": {
      "name": "python3",
      "display_name": "Python 3"
    }
  },
  "cells": [
    {
      "cell_type": "markdown",
      "metadata": {
        "id": "view-in-github",
        "colab_type": "text"
      },
      "source": [
        "<a href=\"https://colab.research.google.com/github/NicoGangi5/Introduction_to_Deep_Learning_-_Neural_Networks_with_Keras/blob/main/ConvolutionalNeuralNetworkswithKeras.ipynb\" target=\"_parent\"><img src=\"https://colab.research.google.com/assets/colab-badge.svg\" alt=\"Open In Colab\"/></a>"
      ]
    },
    {
      "cell_type": "code",
      "metadata": {
        "id": "kH_Ti1i4eTtH"
      },
      "source": [
        "import keras\n",
        "from keras.models import Sequential\n",
        "from keras.layers import Dense\n",
        "from keras.utils import to_categorical\n",
        "\n",
        "from keras.layers.convolutional import Conv2D # to add convolutional layers\n",
        "from keras.layers.convolutional import MaxPooling2D # to add pooling layers\n",
        "from keras.layers import Flatten # to flatten data for fully connected layers\n",
        "\n",
        "# import data\n",
        "from keras.datasets import mnist"
      ],
      "execution_count": null,
      "outputs": []
    },
    {
      "cell_type": "code",
      "metadata": {
        "id": "Fhn-qqMziHN-",
        "colab": {
          "base_uri": "https://localhost:8080/"
        },
        "outputId": "ffb84c62-de3b-437d-c28e-d7f3af306096"
      },
      "source": [
        "# load data\n",
        "(X_train, y_train), (X_test, y_test) = mnist.load_data()\n",
        "\n",
        "# reshape to be [samples][pixels][width][height]\n",
        "X_train = X_train.reshape(X_train.shape[0], 28, 28, 1).astype('float32')\n",
        "X_test = X_test.reshape(X_test.shape[0], 28, 28, 1).astype('float32')"
      ],
      "execution_count": null,
      "outputs": [
        {
          "output_type": "stream",
          "text": [
            "Downloading data from https://storage.googleapis.com/tensorflow/tf-keras-datasets/mnist.npz\n",
            "11493376/11490434 [==============================] - 0s 0us/step\n"
          ],
          "name": "stdout"
        }
      ]
    },
    {
      "cell_type": "code",
      "metadata": {
        "id": "Hhn1sQJiiTCc"
      },
      "source": [
        "X_train = X_train / 255 # normalize training data\n",
        "X_test = X_test / 255 # normalize test data"
      ],
      "execution_count": null,
      "outputs": []
    },
    {
      "cell_type": "code",
      "metadata": {
        "id": "MlZcTgX0id1t",
        "colab": {
          "base_uri": "https://localhost:8080/"
        },
        "outputId": "2059ff03-be5e-4f46-d57b-e630388d4b42"
      },
      "source": [
        "y_train = to_categorical(y_train)\n",
        "y_test = to_categorical(y_test)\n",
        "\n",
        "num_classes = y_test.shape[1] # number of categories\n",
        "num_classes"
      ],
      "execution_count": null,
      "outputs": [
        {
          "output_type": "execute_result",
          "data": {
            "text/plain": [
              "10"
            ]
          },
          "metadata": {
            "tags": []
          },
          "execution_count": 5
        }
      ]
    },
    {
      "cell_type": "code",
      "metadata": {
        "id": "Iy1kPnclintH"
      },
      "source": [
        "def convolutional_model():\n",
        "    \n",
        "    # create model\n",
        "    model = Sequential()\n",
        "    model.add(Conv2D(16, (5, 5), strides=(1, 1), activation='relu', input_shape=(28, 28, 1)))\n",
        "    model.add(MaxPooling2D(pool_size=(2, 2), strides=(2, 2)))\n",
        "    \n",
        "    model.add(Flatten())\n",
        "    model.add(Dense(100, activation='relu'))\n",
        "    model.add(Dense(num_classes, activation='softmax'))\n",
        "    \n",
        "    # compile model\n",
        "    model.compile(optimizer='adam', loss='categorical_crossentropy',  metrics=['accuracy'])\n",
        "    return model"
      ],
      "execution_count": null,
      "outputs": []
    },
    {
      "cell_type": "code",
      "metadata": {
        "id": "abFD1gb7jkQO",
        "colab": {
          "base_uri": "https://localhost:8080/"
        },
        "outputId": "58bdf38c-e1f2-449b-849b-b718ee26788d"
      },
      "source": [
        "# build the model\n",
        "model = convolutional_model()\n",
        "\n",
        "# fit the model\n",
        "model.fit(X_train, y_train, validation_data=(X_test, y_test), epochs=10, batch_size=200, verbose=2)\n",
        "\n",
        "# evaluate the model\n",
        "scores = model.evaluate(X_test, y_test, verbose=0)\n",
        "print(\"Accuracy: {} \\n Error: {}\".format(scores[1], 100-scores[1]*100))"
      ],
      "execution_count": null,
      "outputs": [
        {
          "output_type": "stream",
          "text": [
            "Epoch 1/10\n",
            "300/300 - 18s - loss: 0.2757 - accuracy: 0.9253 - val_loss: 0.0901 - val_accuracy: 0.9734\n",
            "Epoch 2/10\n",
            "300/300 - 18s - loss: 0.0762 - accuracy: 0.9783 - val_loss: 0.0578 - val_accuracy: 0.9823\n",
            "Epoch 3/10\n",
            "300/300 - 18s - loss: 0.0540 - accuracy: 0.9837 - val_loss: 0.0459 - val_accuracy: 0.9861\n",
            "Epoch 4/10\n",
            "300/300 - 18s - loss: 0.0422 - accuracy: 0.9874 - val_loss: 0.0412 - val_accuracy: 0.9866\n",
            "Epoch 5/10\n",
            "300/300 - 18s - loss: 0.0345 - accuracy: 0.9894 - val_loss: 0.0464 - val_accuracy: 0.9839\n",
            "Epoch 6/10\n",
            "300/300 - 18s - loss: 0.0285 - accuracy: 0.9912 - val_loss: 0.0401 - val_accuracy: 0.9865\n",
            "Epoch 7/10\n",
            "300/300 - 18s - loss: 0.0239 - accuracy: 0.9926 - val_loss: 0.0363 - val_accuracy: 0.9890\n",
            "Epoch 8/10\n",
            "300/300 - 18s - loss: 0.0193 - accuracy: 0.9943 - val_loss: 0.0382 - val_accuracy: 0.9871\n",
            "Epoch 9/10\n",
            "300/300 - 18s - loss: 0.0162 - accuracy: 0.9952 - val_loss: 0.0406 - val_accuracy: 0.9864\n",
            "Epoch 10/10\n",
            "300/300 - 18s - loss: 0.0138 - accuracy: 0.9961 - val_loss: 0.0375 - val_accuracy: 0.9884\n",
            "Accuracy: 0.9883999824523926 \n",
            " Error: 1.1600017547607422\n"
          ],
          "name": "stdout"
        }
      ]
    },
    {
      "cell_type": "code",
      "metadata": {
        "id": "q_VL8VapnyXp"
      },
      "source": [
        "def convolutional_model():\n",
        "    \n",
        "    # create model\n",
        "    model = Sequential()\n",
        "    model.add(Conv2D(16, (5, 5), activation='relu', input_shape=(28, 28, 1)))\n",
        "    model.add(MaxPooling2D(pool_size=(2, 2), strides=(2, 2)))\n",
        "    \n",
        "    model.add(Conv2D(32, (2, 2), activation='relu'))\n",
        "    model.add(MaxPooling2D(pool_size=(2, 2), strides=(2, 2)))\n",
        "    \n",
        "    model.add(Flatten())\n",
        "    model.add(Dense(100, activation='relu'))\n",
        "    model.add(Dense(num_classes, activation='softmax'))\n",
        "    \n",
        "    # Compile model\n",
        "    model.compile(optimizer='adam', loss='categorical_crossentropy',  metrics=['accuracy'])\n",
        "    return model"
      ],
      "execution_count": null,
      "outputs": []
    },
    {
      "cell_type": "code",
      "metadata": {
        "id": "lw6s6ttUoP8o",
        "colab": {
          "base_uri": "https://localhost:8080/"
        },
        "outputId": "9f68e55e-4829-42dc-bf37-86ee286a1bc6"
      },
      "source": [
        "# build the model\n",
        "model = convolutional_model()\n",
        "\n",
        "# fit the model\n",
        "model.fit(X_train, y_train, validation_data=(X_test, y_test), epochs=10, batch_size=200, verbose=2)\n",
        "\n",
        "# evaluate the model\n",
        "scores = model.evaluate(X_test, y_test, verbose=0)\n",
        "print(\"Accuracy: {} \\n Error: {}\".format(scores[1], 100-scores[1]*100))"
      ],
      "execution_count": null,
      "outputs": [
        {
          "output_type": "stream",
          "text": [
            "Epoch 1/10\n",
            "300/300 - 22s - loss: 0.3185 - accuracy: 0.9145 - val_loss: 0.0849 - val_accuracy: 0.9748\n",
            "Epoch 2/10\n",
            "300/300 - 22s - loss: 0.0765 - accuracy: 0.9764 - val_loss: 0.0495 - val_accuracy: 0.9849\n",
            "Epoch 3/10\n",
            "300/300 - 22s - loss: 0.0549 - accuracy: 0.9837 - val_loss: 0.0445 - val_accuracy: 0.9854\n",
            "Epoch 4/10\n",
            "300/300 - 22s - loss: 0.0439 - accuracy: 0.9864 - val_loss: 0.0331 - val_accuracy: 0.9890\n",
            "Epoch 5/10\n",
            "300/300 - 22s - loss: 0.0377 - accuracy: 0.9888 - val_loss: 0.0337 - val_accuracy: 0.9893\n",
            "Epoch 6/10\n",
            "300/300 - 22s - loss: 0.0328 - accuracy: 0.9898 - val_loss: 0.0311 - val_accuracy: 0.9897\n",
            "Epoch 7/10\n",
            "300/300 - 22s - loss: 0.0280 - accuracy: 0.9914 - val_loss: 0.0310 - val_accuracy: 0.9891\n",
            "Epoch 8/10\n",
            "300/300 - 22s - loss: 0.0246 - accuracy: 0.9926 - val_loss: 0.0267 - val_accuracy: 0.9914\n",
            "Epoch 9/10\n",
            "300/300 - 22s - loss: 0.0212 - accuracy: 0.9935 - val_loss: 0.0261 - val_accuracy: 0.9910\n",
            "Epoch 10/10\n",
            "300/300 - 22s - loss: 0.0188 - accuracy: 0.9940 - val_loss: 0.0282 - val_accuracy: 0.9905\n",
            "Accuracy: 0.9904999732971191 \n",
            " Error: 0.9500026702880859\n"
          ],
          "name": "stdout"
        }
      ]
    }
  ]
}