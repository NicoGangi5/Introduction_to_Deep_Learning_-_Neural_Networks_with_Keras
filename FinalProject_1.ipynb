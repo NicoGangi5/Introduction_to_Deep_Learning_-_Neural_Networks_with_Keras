{
  "nbformat": 4,
  "nbformat_minor": 0,
  "metadata": {
    "colab": {
      "name": "FinalProject_1.ipynb",
      "provenance": [],
      "collapsed_sections": [],
      "authorship_tag": "ABX9TyPG3kQz/ZM4BWvAsri6KNqR",
      "include_colab_link": true
    },
    "kernelspec": {
      "name": "python3",
      "display_name": "Python 3"
    }
  },
  "cells": [
    {
      "cell_type": "markdown",
      "metadata": {
        "id": "view-in-github",
        "colab_type": "text"
      },
      "source": [
        "<a href=\"https://colab.research.google.com/github/NicoGangi5/Introduction_to_Deep_Learning_-_Neural_Networks_with_Keras/blob/main/FinalProject_1.ipynb\" target=\"_parent\"><img src=\"https://colab.research.google.com/assets/colab-badge.svg\" alt=\"Open In Colab\"/></a>"
      ]
    },
    {
      "cell_type": "code",
      "metadata": {
        "id": "3NpwvEsGS8QF"
      },
      "source": [
        "import pandas as pd\n",
        "import numpy as np\n",
        "from sklearn.model_selection import train_test_split\n",
        "import keras\n",
        "from keras.models import Sequential\n",
        "from keras.layers import Dense\n",
        "from sklearn.metrics import mean_squared_error"
      ],
      "execution_count": null,
      "outputs": []
    },
    {
      "cell_type": "code",
      "metadata": {
        "id": "PD6fmwR-UfXg",
        "colab": {
          "base_uri": "https://localhost:8080/",
          "height": 204
        },
        "outputId": "4dfa1d31-74c6-4406-d1a7-11c7bcbe3843"
      },
      "source": [
        "concrete_data = pd.read_csv('https://s3-api.us-geo.objectstorage.softlayer.net/cf-courses-data/CognitiveClass/DL0101EN/labs/data/concrete_data.csv')\n",
        "concrete_data.head()"
      ],
      "execution_count": null,
      "outputs": [
        {
          "output_type": "execute_result",
          "data": {
            "text/html": [
              "<div>\n",
              "<style scoped>\n",
              "    .dataframe tbody tr th:only-of-type {\n",
              "        vertical-align: middle;\n",
              "    }\n",
              "\n",
              "    .dataframe tbody tr th {\n",
              "        vertical-align: top;\n",
              "    }\n",
              "\n",
              "    .dataframe thead th {\n",
              "        text-align: right;\n",
              "    }\n",
              "</style>\n",
              "<table border=\"1\" class=\"dataframe\">\n",
              "  <thead>\n",
              "    <tr style=\"text-align: right;\">\n",
              "      <th></th>\n",
              "      <th>Cement</th>\n",
              "      <th>Blast Furnace Slag</th>\n",
              "      <th>Fly Ash</th>\n",
              "      <th>Water</th>\n",
              "      <th>Superplasticizer</th>\n",
              "      <th>Coarse Aggregate</th>\n",
              "      <th>Fine Aggregate</th>\n",
              "      <th>Age</th>\n",
              "      <th>Strength</th>\n",
              "    </tr>\n",
              "  </thead>\n",
              "  <tbody>\n",
              "    <tr>\n",
              "      <th>0</th>\n",
              "      <td>540.0</td>\n",
              "      <td>0.0</td>\n",
              "      <td>0.0</td>\n",
              "      <td>162.0</td>\n",
              "      <td>2.5</td>\n",
              "      <td>1040.0</td>\n",
              "      <td>676.0</td>\n",
              "      <td>28</td>\n",
              "      <td>79.99</td>\n",
              "    </tr>\n",
              "    <tr>\n",
              "      <th>1</th>\n",
              "      <td>540.0</td>\n",
              "      <td>0.0</td>\n",
              "      <td>0.0</td>\n",
              "      <td>162.0</td>\n",
              "      <td>2.5</td>\n",
              "      <td>1055.0</td>\n",
              "      <td>676.0</td>\n",
              "      <td>28</td>\n",
              "      <td>61.89</td>\n",
              "    </tr>\n",
              "    <tr>\n",
              "      <th>2</th>\n",
              "      <td>332.5</td>\n",
              "      <td>142.5</td>\n",
              "      <td>0.0</td>\n",
              "      <td>228.0</td>\n",
              "      <td>0.0</td>\n",
              "      <td>932.0</td>\n",
              "      <td>594.0</td>\n",
              "      <td>270</td>\n",
              "      <td>40.27</td>\n",
              "    </tr>\n",
              "    <tr>\n",
              "      <th>3</th>\n",
              "      <td>332.5</td>\n",
              "      <td>142.5</td>\n",
              "      <td>0.0</td>\n",
              "      <td>228.0</td>\n",
              "      <td>0.0</td>\n",
              "      <td>932.0</td>\n",
              "      <td>594.0</td>\n",
              "      <td>365</td>\n",
              "      <td>41.05</td>\n",
              "    </tr>\n",
              "    <tr>\n",
              "      <th>4</th>\n",
              "      <td>198.6</td>\n",
              "      <td>132.4</td>\n",
              "      <td>0.0</td>\n",
              "      <td>192.0</td>\n",
              "      <td>0.0</td>\n",
              "      <td>978.4</td>\n",
              "      <td>825.5</td>\n",
              "      <td>360</td>\n",
              "      <td>44.30</td>\n",
              "    </tr>\n",
              "  </tbody>\n",
              "</table>\n",
              "</div>"
            ],
            "text/plain": [
              "   Cement  Blast Furnace Slag  Fly Ash  ...  Fine Aggregate  Age  Strength\n",
              "0   540.0                 0.0      0.0  ...           676.0   28     79.99\n",
              "1   540.0                 0.0      0.0  ...           676.0   28     61.89\n",
              "2   332.5               142.5      0.0  ...           594.0  270     40.27\n",
              "3   332.5               142.5      0.0  ...           594.0  365     41.05\n",
              "4   198.6               132.4      0.0  ...           825.5  360     44.30\n",
              "\n",
              "[5 rows x 9 columns]"
            ]
          },
          "metadata": {
            "tags": []
          },
          "execution_count": 2
        }
      ]
    },
    {
      "cell_type": "code",
      "metadata": {
        "id": "ImZ_2h0hUmmL",
        "colab": {
          "base_uri": "https://localhost:8080/"
        },
        "outputId": "b5d9955a-b56a-4531-dc09-de7fa7a0cec7"
      },
      "source": [
        "concrete_data.shape"
      ],
      "execution_count": null,
      "outputs": [
        {
          "output_type": "execute_result",
          "data": {
            "text/plain": [
              "(1030, 9)"
            ]
          },
          "metadata": {
            "tags": []
          },
          "execution_count": 3
        }
      ]
    },
    {
      "cell_type": "code",
      "metadata": {
        "id": "ffnWO_ONVl5x",
        "colab": {
          "base_uri": "https://localhost:8080/"
        },
        "outputId": "56a30d8a-ad25-4d0d-c144-628c4308919b"
      },
      "source": [
        "concrete_data_columns = concrete_data.columns\n",
        "\n",
        "predictors = concrete_data[concrete_data_columns[concrete_data_columns != 'Strength']] # all columns except Strength\n",
        "target = concrete_data['Strength'] # Strength column\n",
        "\n",
        "# Split the dataset into training and test \n",
        "X_train, X_test, y_train, y_test = train_test_split( predictors, target, test_size=0.3, random_state=4)\n",
        "print ('Train set:', X_train.shape,  y_train.shape)\n",
        "print ('Test set:', X_test.shape,  y_test.shape)\n",
        "\n",
        "n_cols = predictors.shape[1] # number of predictors\n",
        "print('Number of predictors:', n_cols)"
      ],
      "execution_count": null,
      "outputs": [
        {
          "output_type": "stream",
          "text": [
            "Train set: (721, 8) (721,)\n",
            "Test set: (309, 8) (309,)\n",
            "Number of predictors: 8\n"
          ],
          "name": "stdout"
        }
      ]
    },
    {
      "cell_type": "code",
      "metadata": {
        "id": "CQBgnxGbUoWK"
      },
      "source": [
        "# define regression model\n",
        "def regression_model():\n",
        "    # create model\n",
        "    model = Sequential()\n",
        "    model.add(Dense(10, activation='relu', input_shape=(n_cols,)))\n",
        "    model.add(Dense(1))\n",
        "    \n",
        "    # compile model\n",
        "    model.compile(optimizer='adam', loss='mean_squared_error')\n",
        "    return model"
      ],
      "execution_count": null,
      "outputs": []
    },
    {
      "cell_type": "code",
      "metadata": {
        "id": "vTRLPPHkWcB5",
        "colab": {
          "base_uri": "https://localhost:8080/"
        },
        "outputId": "9e19a86c-c718-4391-b836-a3d8b98b416a"
      },
      "source": [
        "# build the model\n",
        "model = regression_model()\n",
        "\n",
        "# fit the model\n",
        "model.fit(X_train, y_train, epochs=50, verbose=1)"
      ],
      "execution_count": null,
      "outputs": [
        {
          "output_type": "stream",
          "text": [
            "Epoch 1/50\n",
            "23/23 [==============================] - 0s 951us/step - loss: 7887.6729\n",
            "Epoch 2/50\n",
            "23/23 [==============================] - 0s 856us/step - loss: 5667.6689\n",
            "Epoch 3/50\n",
            "23/23 [==============================] - 0s 972us/step - loss: 4126.2485\n",
            "Epoch 4/50\n",
            "23/23 [==============================] - 0s 872us/step - loss: 2924.9258\n",
            "Epoch 5/50\n",
            "23/23 [==============================] - 0s 884us/step - loss: 2047.3450\n",
            "Epoch 6/50\n",
            "23/23 [==============================] - 0s 888us/step - loss: 1398.2047\n",
            "Epoch 7/50\n",
            "23/23 [==============================] - 0s 879us/step - loss: 975.7880\n",
            "Epoch 8/50\n",
            "23/23 [==============================] - 0s 872us/step - loss: 684.9559\n",
            "Epoch 9/50\n",
            "23/23 [==============================] - 0s 857us/step - loss: 493.0306\n",
            "Epoch 10/50\n",
            "23/23 [==============================] - 0s 863us/step - loss: 400.8477\n",
            "Epoch 11/50\n",
            "23/23 [==============================] - 0s 973us/step - loss: 337.5137\n",
            "Epoch 12/50\n",
            "23/23 [==============================] - 0s 991us/step - loss: 299.3387\n",
            "Epoch 13/50\n",
            "23/23 [==============================] - 0s 929us/step - loss: 277.0537\n",
            "Epoch 14/50\n",
            "23/23 [==============================] - 0s 971us/step - loss: 261.9806\n",
            "Epoch 15/50\n",
            "23/23 [==============================] - 0s 992us/step - loss: 244.3996\n",
            "Epoch 16/50\n",
            "23/23 [==============================] - 0s 963us/step - loss: 233.6595\n",
            "Epoch 17/50\n",
            "23/23 [==============================] - 0s 974us/step - loss: 226.1678\n",
            "Epoch 18/50\n",
            "23/23 [==============================] - 0s 1ms/step - loss: 216.7073\n",
            "Epoch 19/50\n",
            "23/23 [==============================] - 0s 1ms/step - loss: 209.9672\n",
            "Epoch 20/50\n",
            "23/23 [==============================] - 0s 940us/step - loss: 203.3357\n",
            "Epoch 21/50\n",
            "23/23 [==============================] - 0s 953us/step - loss: 200.3467\n",
            "Epoch 22/50\n",
            "23/23 [==============================] - 0s 978us/step - loss: 191.4709\n",
            "Epoch 23/50\n",
            "23/23 [==============================] - 0s 1ms/step - loss: 185.7267\n",
            "Epoch 24/50\n",
            "23/23 [==============================] - 0s 1ms/step - loss: 179.2200\n",
            "Epoch 25/50\n",
            "23/23 [==============================] - 0s 1ms/step - loss: 174.2767\n",
            "Epoch 26/50\n",
            "23/23 [==============================] - 0s 1ms/step - loss: 165.0431\n",
            "Epoch 27/50\n",
            "23/23 [==============================] - 0s 956us/step - loss: 164.4246\n",
            "Epoch 28/50\n",
            "23/23 [==============================] - 0s 1ms/step - loss: 156.2493\n",
            "Epoch 29/50\n",
            "23/23 [==============================] - 0s 1ms/step - loss: 151.5902\n",
            "Epoch 30/50\n",
            "23/23 [==============================] - 0s 955us/step - loss: 144.9178\n",
            "Epoch 31/50\n",
            "23/23 [==============================] - 0s 941us/step - loss: 143.4148\n",
            "Epoch 32/50\n",
            "23/23 [==============================] - 0s 933us/step - loss: 134.5018\n",
            "Epoch 33/50\n",
            "23/23 [==============================] - 0s 907us/step - loss: 132.3361\n",
            "Epoch 34/50\n",
            "23/23 [==============================] - 0s 855us/step - loss: 129.0771\n",
            "Epoch 35/50\n",
            "23/23 [==============================] - 0s 986us/step - loss: 125.0117\n",
            "Epoch 36/50\n",
            "23/23 [==============================] - 0s 966us/step - loss: 122.3202\n",
            "Epoch 37/50\n",
            "23/23 [==============================] - 0s 1ms/step - loss: 122.3729\n",
            "Epoch 38/50\n",
            "23/23 [==============================] - 0s 980us/step - loss: 121.1311\n",
            "Epoch 39/50\n",
            "23/23 [==============================] - 0s 890us/step - loss: 117.2590\n",
            "Epoch 40/50\n",
            "23/23 [==============================] - 0s 1ms/step - loss: 117.2472\n",
            "Epoch 41/50\n",
            "23/23 [==============================] - 0s 1ms/step - loss: 122.4143\n",
            "Epoch 42/50\n",
            "23/23 [==============================] - 0s 1ms/step - loss: 112.2401\n",
            "Epoch 43/50\n",
            "23/23 [==============================] - 0s 1ms/step - loss: 111.0245\n",
            "Epoch 44/50\n",
            "23/23 [==============================] - 0s 1ms/step - loss: 112.3772\n",
            "Epoch 45/50\n",
            "23/23 [==============================] - 0s 937us/step - loss: 110.7831\n",
            "Epoch 46/50\n",
            "23/23 [==============================] - 0s 985us/step - loss: 112.1236\n",
            "Epoch 47/50\n",
            "23/23 [==============================] - 0s 943us/step - loss: 108.3356\n",
            "Epoch 48/50\n",
            "23/23 [==============================] - 0s 889us/step - loss: 106.6458\n",
            "Epoch 49/50\n",
            "23/23 [==============================] - 0s 973us/step - loss: 106.1160\n",
            "Epoch 50/50\n",
            "23/23 [==============================] - 0s 987us/step - loss: 109.9952\n"
          ],
          "name": "stdout"
        },
        {
          "output_type": "execute_result",
          "data": {
            "text/plain": [
              "<tensorflow.python.keras.callbacks.History at 0x7fca3e782a58>"
            ]
          },
          "metadata": {
            "tags": []
          },
          "execution_count": 28
        }
      ]
    },
    {
      "cell_type": "code",
      "metadata": {
        "id": "wyeytxL3W_Uh",
        "colab": {
          "base_uri": "https://localhost:8080/"
        },
        "outputId": "7529b084-2d3f-4aa8-e725-3e129ebcd198"
      },
      "source": [
        "# predict using X_test\n",
        "y_pred = model.predict(X_test)\n",
        "\n",
        "loss = mean_squared_error(y_test, y_pred)\n",
        "mean = np.mean(loss)\n",
        "standard_deviation = np.std(loss)\n",
        "\n",
        "print(\"Mean Squared error:\", mean)\n",
        "print(\"Standar Deviation:\", standard_deviation)"
      ],
      "execution_count": null,
      "outputs": [
        {
          "output_type": "stream",
          "text": [
            "Mean Squared error: 147.76801408640864\n",
            "Standar Deviation: 0.0\n"
          ],
          "name": "stdout"
        }
      ]
    },
    {
      "cell_type": "code",
      "metadata": {
        "id": "ApMCjiHnfNJB",
        "colab": {
          "base_uri": "https://localhost:8080/"
        },
        "outputId": "2c17b665-5583-4d1c-ef43-020bdd08c5ce"
      },
      "source": [
        "# Repeat 50 times\n",
        "total_mean_squared_errors = 50\n",
        "epochs = 50\n",
        "mean_squared_errors = []\n",
        "for i in range(0, total_mean_squared_errors):\n",
        "    # Split the dataset into training and test \n",
        "    X_train, X_test, y_train, y_test = train_test_split(predictors, target, test_size=0.3, random_state=i)\n",
        "\n",
        "    # fit the model\n",
        "    model.fit(X_train, y_train, epochs=epochs, verbose=0)\n",
        "\n",
        "    # evaluate the model\n",
        "    MSE = model.evaluate(X_test, y_test, verbose=0)\n",
        "    print(\"MSE \"+str(i+1)+\": \"+str(MSE))\n",
        "\n",
        "    # predict using X_test\n",
        "    y_pred = model.predict(X_test)\n",
        "    mean_square_error = mean_squared_error(y_test, y_pred)\n",
        "    mean_squared_errors.append(mean_square_error)\n",
        "\n",
        "mean_squared_errors = np.array(mean_squared_errors)\n",
        "mean = np.mean(mean_squared_errors)\n",
        "standard_deviation = np.std(mean_squared_errors)\n",
        "\n",
        "print('\\n')\n",
        "print(\"Below is the mean and standard deviation of \" +str(total_mean_squared_errors) + \" mean squared errors without normalized data. Total number of epochs for each training is: \" +str(epochs) + \"\\n\")\n",
        "print(\"Mean: \"+str(mean))\n",
        "print(\"Standard Deviation: \"+str(standard_deviation))"
      ],
      "execution_count": null,
      "outputs": [
        {
          "output_type": "stream",
          "text": [
            "MSE 1: 99.31156921386719\n",
            "MSE 2: 121.70720672607422\n",
            "MSE 3: 114.50218963623047\n",
            "MSE 4: 121.28292083740234\n",
            "MSE 5: 129.21731567382812\n",
            "MSE 6: 109.45514678955078\n",
            "MSE 7: 131.82347106933594\n",
            "MSE 8: 101.57779693603516\n",
            "MSE 9: 119.52861022949219\n",
            "MSE 10: 111.36884307861328\n",
            "MSE 11: 103.61322021484375\n",
            "MSE 12: 100.72726440429688\n",
            "MSE 13: 114.59748840332031\n",
            "MSE 14: 116.20218658447266\n",
            "MSE 15: 109.61589813232422\n",
            "MSE 16: 105.09192657470703\n",
            "MSE 17: 104.24006652832031\n",
            "MSE 18: 98.04107666015625\n",
            "MSE 19: 94.99668884277344\n",
            "MSE 20: 114.74411010742188\n",
            "MSE 21: 101.8706283569336\n",
            "MSE 22: 102.86392211914062\n",
            "MSE 23: 107.56395721435547\n",
            "MSE 24: 105.5282211303711\n",
            "MSE 25: 109.3837890625\n",
            "MSE 26: 109.92393493652344\n",
            "MSE 27: 120.5337905883789\n",
            "MSE 28: 109.22985076904297\n",
            "MSE 29: 110.4109878540039\n",
            "MSE 30: 122.40463256835938\n",
            "MSE 31: 133.57421875\n",
            "MSE 32: 109.28340911865234\n",
            "MSE 33: 101.97503662109375\n",
            "MSE 34: 109.32833099365234\n",
            "MSE 35: 115.21002960205078\n",
            "MSE 36: 124.82019805908203\n",
            "MSE 37: 119.24950408935547\n",
            "MSE 38: 119.84009552001953\n",
            "MSE 39: 118.59719848632812\n",
            "MSE 40: 118.17210388183594\n",
            "MSE 41: 126.54017639160156\n",
            "MSE 42: 112.1058120727539\n",
            "MSE 43: 108.49859619140625\n",
            "MSE 44: 106.91426849365234\n",
            "MSE 45: 114.46784210205078\n",
            "MSE 46: 117.02357482910156\n",
            "MSE 47: 111.6849594116211\n",
            "MSE 48: 114.09583282470703\n",
            "MSE 49: 101.45844268798828\n",
            "MSE 50: 109.34577178955078\n",
            "\n",
            "\n",
            "Below is the mean and standard deviation of 50 mean squared errors without normalized data. Total number of epochs for each training is: 50\n",
            "\n",
            "Mean: 112.27088286003158\n",
            "Standard Deviation: 8.760005677366218\n"
          ],
          "name": "stdout"
        }
      ]
    }
  ]
}