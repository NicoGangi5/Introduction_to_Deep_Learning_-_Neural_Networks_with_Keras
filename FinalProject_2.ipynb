{
  "nbformat": 4,
  "nbformat_minor": 0,
  "metadata": {
    "colab": {
      "name": "FinalProject_2.ipynb",
      "provenance": [],
      "collapsed_sections": [],
      "authorship_tag": "ABX9TyOO9DOEMRit0MtsGZg9yjoI",
      "include_colab_link": true
    },
    "kernelspec": {
      "name": "python3",
      "display_name": "Python 3"
    }
  },
  "cells": [
    {
      "cell_type": "markdown",
      "metadata": {
        "id": "view-in-github",
        "colab_type": "text"
      },
      "source": [
        "<a href=\"https://colab.research.google.com/github/NicoGangi5/Introduction_to_Deep_Learning_-_Neural_Networks_with_Keras/blob/main/FinalProject_2.ipynb\" target=\"_parent\"><img src=\"https://colab.research.google.com/assets/colab-badge.svg\" alt=\"Open In Colab\"/></a>"
      ]
    },
    {
      "cell_type": "code",
      "metadata": {
        "id": "nGwzROYRg2La"
      },
      "source": [
        "import pandas as pd\n",
        "import numpy as np\n",
        "from sklearn.model_selection import train_test_split\n",
        "import keras\n",
        "from keras.models import Sequential\n",
        "from keras.layers import Dense\n",
        "from sklearn.metrics import mean_squared_error"
      ],
      "execution_count": null,
      "outputs": []
    },
    {
      "cell_type": "code",
      "metadata": {
        "id": "CIu-NwFFuwhU",
        "colab": {
          "base_uri": "https://localhost:8080/",
          "height": 204
        },
        "outputId": "a2a31416-5203-423a-9bac-338b7026fb8a"
      },
      "source": [
        "concrete_data = pd.read_csv('https://s3-api.us-geo.objectstorage.softlayer.net/cf-courses-data/CognitiveClass/DL0101EN/labs/data/concrete_data.csv')\n",
        "concrete_data.head()"
      ],
      "execution_count": null,
      "outputs": [
        {
          "output_type": "execute_result",
          "data": {
            "text/html": [
              "<div>\n",
              "<style scoped>\n",
              "    .dataframe tbody tr th:only-of-type {\n",
              "        vertical-align: middle;\n",
              "    }\n",
              "\n",
              "    .dataframe tbody tr th {\n",
              "        vertical-align: top;\n",
              "    }\n",
              "\n",
              "    .dataframe thead th {\n",
              "        text-align: right;\n",
              "    }\n",
              "</style>\n",
              "<table border=\"1\" class=\"dataframe\">\n",
              "  <thead>\n",
              "    <tr style=\"text-align: right;\">\n",
              "      <th></th>\n",
              "      <th>Cement</th>\n",
              "      <th>Blast Furnace Slag</th>\n",
              "      <th>Fly Ash</th>\n",
              "      <th>Water</th>\n",
              "      <th>Superplasticizer</th>\n",
              "      <th>Coarse Aggregate</th>\n",
              "      <th>Fine Aggregate</th>\n",
              "      <th>Age</th>\n",
              "      <th>Strength</th>\n",
              "    </tr>\n",
              "  </thead>\n",
              "  <tbody>\n",
              "    <tr>\n",
              "      <th>0</th>\n",
              "      <td>540.0</td>\n",
              "      <td>0.0</td>\n",
              "      <td>0.0</td>\n",
              "      <td>162.0</td>\n",
              "      <td>2.5</td>\n",
              "      <td>1040.0</td>\n",
              "      <td>676.0</td>\n",
              "      <td>28</td>\n",
              "      <td>79.99</td>\n",
              "    </tr>\n",
              "    <tr>\n",
              "      <th>1</th>\n",
              "      <td>540.0</td>\n",
              "      <td>0.0</td>\n",
              "      <td>0.0</td>\n",
              "      <td>162.0</td>\n",
              "      <td>2.5</td>\n",
              "      <td>1055.0</td>\n",
              "      <td>676.0</td>\n",
              "      <td>28</td>\n",
              "      <td>61.89</td>\n",
              "    </tr>\n",
              "    <tr>\n",
              "      <th>2</th>\n",
              "      <td>332.5</td>\n",
              "      <td>142.5</td>\n",
              "      <td>0.0</td>\n",
              "      <td>228.0</td>\n",
              "      <td>0.0</td>\n",
              "      <td>932.0</td>\n",
              "      <td>594.0</td>\n",
              "      <td>270</td>\n",
              "      <td>40.27</td>\n",
              "    </tr>\n",
              "    <tr>\n",
              "      <th>3</th>\n",
              "      <td>332.5</td>\n",
              "      <td>142.5</td>\n",
              "      <td>0.0</td>\n",
              "      <td>228.0</td>\n",
              "      <td>0.0</td>\n",
              "      <td>932.0</td>\n",
              "      <td>594.0</td>\n",
              "      <td>365</td>\n",
              "      <td>41.05</td>\n",
              "    </tr>\n",
              "    <tr>\n",
              "      <th>4</th>\n",
              "      <td>198.6</td>\n",
              "      <td>132.4</td>\n",
              "      <td>0.0</td>\n",
              "      <td>192.0</td>\n",
              "      <td>0.0</td>\n",
              "      <td>978.4</td>\n",
              "      <td>825.5</td>\n",
              "      <td>360</td>\n",
              "      <td>44.30</td>\n",
              "    </tr>\n",
              "  </tbody>\n",
              "</table>\n",
              "</div>"
            ],
            "text/plain": [
              "   Cement  Blast Furnace Slag  Fly Ash  ...  Fine Aggregate  Age  Strength\n",
              "0   540.0                 0.0      0.0  ...           676.0   28     79.99\n",
              "1   540.0                 0.0      0.0  ...           676.0   28     61.89\n",
              "2   332.5               142.5      0.0  ...           594.0  270     40.27\n",
              "3   332.5               142.5      0.0  ...           594.0  365     41.05\n",
              "4   198.6               132.4      0.0  ...           825.5  360     44.30\n",
              "\n",
              "[5 rows x 9 columns]"
            ]
          },
          "metadata": {
            "tags": []
          },
          "execution_count": 2
        }
      ]
    },
    {
      "cell_type": "code",
      "metadata": {
        "id": "HpDjEe5HuzHx",
        "colab": {
          "base_uri": "https://localhost:8080/"
        },
        "outputId": "c48226c2-844a-438a-f2a1-1fb1f10f8e36"
      },
      "source": [
        "concrete_data.shape"
      ],
      "execution_count": null,
      "outputs": [
        {
          "output_type": "execute_result",
          "data": {
            "text/plain": [
              "(1030, 9)"
            ]
          },
          "metadata": {
            "tags": []
          },
          "execution_count": 3
        }
      ]
    },
    {
      "cell_type": "code",
      "metadata": {
        "id": "KfTO6LAVu-Py",
        "colab": {
          "base_uri": "https://localhost:8080/"
        },
        "outputId": "7af02f83-9cd6-4081-e378-541a7bc6f594"
      },
      "source": [
        "concrete_data_columns = concrete_data.columns\n",
        "\n",
        "predictors = concrete_data[concrete_data_columns[concrete_data_columns != 'Strength']] # all columns except Strength\n",
        "target = concrete_data['Strength'] # Strength column\n",
        "\n",
        "predictors_norm = (predictors - predictors.mean()) / predictors.std()\n",
        "\n",
        "# Split the dataset into training and test \n",
        "X_train, X_test, y_train, y_test = train_test_split( predictors_norm, target, test_size=0.3, random_state=4)\n",
        "print ('Train set:', X_train.shape,  y_train.shape)\n",
        "print ('Test set:', X_test.shape,  y_test.shape)\n",
        "\n",
        "n_cols = predictors_norm.shape[1] # number of predictors\n",
        "print('Number of predictors norm:', n_cols)"
      ],
      "execution_count": null,
      "outputs": [
        {
          "output_type": "stream",
          "text": [
            "Train set: (721, 8) (721,)\n",
            "Test set: (309, 8) (309,)\n",
            "Number of predictors norm: 8\n"
          ],
          "name": "stdout"
        }
      ]
    },
    {
      "cell_type": "code",
      "metadata": {
        "id": "LZNHjcEzvZtv",
        "colab": {
          "base_uri": "https://localhost:8080/",
          "height": 204
        },
        "outputId": "a994bd96-f816-47d9-8913-b0527c42c0c5"
      },
      "source": [
        "predictors_norm.head()"
      ],
      "execution_count": null,
      "outputs": [
        {
          "output_type": "execute_result",
          "data": {
            "text/html": [
              "<div>\n",
              "<style scoped>\n",
              "    .dataframe tbody tr th:only-of-type {\n",
              "        vertical-align: middle;\n",
              "    }\n",
              "\n",
              "    .dataframe tbody tr th {\n",
              "        vertical-align: top;\n",
              "    }\n",
              "\n",
              "    .dataframe thead th {\n",
              "        text-align: right;\n",
              "    }\n",
              "</style>\n",
              "<table border=\"1\" class=\"dataframe\">\n",
              "  <thead>\n",
              "    <tr style=\"text-align: right;\">\n",
              "      <th></th>\n",
              "      <th>Cement</th>\n",
              "      <th>Blast Furnace Slag</th>\n",
              "      <th>Fly Ash</th>\n",
              "      <th>Water</th>\n",
              "      <th>Superplasticizer</th>\n",
              "      <th>Coarse Aggregate</th>\n",
              "      <th>Fine Aggregate</th>\n",
              "      <th>Age</th>\n",
              "    </tr>\n",
              "  </thead>\n",
              "  <tbody>\n",
              "    <tr>\n",
              "      <th>0</th>\n",
              "      <td>2.476712</td>\n",
              "      <td>-0.856472</td>\n",
              "      <td>-0.846733</td>\n",
              "      <td>-0.916319</td>\n",
              "      <td>-0.620147</td>\n",
              "      <td>0.862735</td>\n",
              "      <td>-1.217079</td>\n",
              "      <td>-0.279597</td>\n",
              "    </tr>\n",
              "    <tr>\n",
              "      <th>1</th>\n",
              "      <td>2.476712</td>\n",
              "      <td>-0.856472</td>\n",
              "      <td>-0.846733</td>\n",
              "      <td>-0.916319</td>\n",
              "      <td>-0.620147</td>\n",
              "      <td>1.055651</td>\n",
              "      <td>-1.217079</td>\n",
              "      <td>-0.279597</td>\n",
              "    </tr>\n",
              "    <tr>\n",
              "      <th>2</th>\n",
              "      <td>0.491187</td>\n",
              "      <td>0.795140</td>\n",
              "      <td>-0.846733</td>\n",
              "      <td>2.174405</td>\n",
              "      <td>-1.038638</td>\n",
              "      <td>-0.526262</td>\n",
              "      <td>-2.239829</td>\n",
              "      <td>3.551340</td>\n",
              "    </tr>\n",
              "    <tr>\n",
              "      <th>3</th>\n",
              "      <td>0.491187</td>\n",
              "      <td>0.795140</td>\n",
              "      <td>-0.846733</td>\n",
              "      <td>2.174405</td>\n",
              "      <td>-1.038638</td>\n",
              "      <td>-0.526262</td>\n",
              "      <td>-2.239829</td>\n",
              "      <td>5.055221</td>\n",
              "    </tr>\n",
              "    <tr>\n",
              "      <th>4</th>\n",
              "      <td>-0.790075</td>\n",
              "      <td>0.678079</td>\n",
              "      <td>-0.846733</td>\n",
              "      <td>0.488555</td>\n",
              "      <td>-1.038638</td>\n",
              "      <td>0.070492</td>\n",
              "      <td>0.647569</td>\n",
              "      <td>4.976069</td>\n",
              "    </tr>\n",
              "  </tbody>\n",
              "</table>\n",
              "</div>"
            ],
            "text/plain": [
              "     Cement  Blast Furnace Slag  ...  Fine Aggregate       Age\n",
              "0  2.476712           -0.856472  ...       -1.217079 -0.279597\n",
              "1  2.476712           -0.856472  ...       -1.217079 -0.279597\n",
              "2  0.491187            0.795140  ...       -2.239829  3.551340\n",
              "3  0.491187            0.795140  ...       -2.239829  5.055221\n",
              "4 -0.790075            0.678079  ...        0.647569  4.976069\n",
              "\n",
              "[5 rows x 8 columns]"
            ]
          },
          "metadata": {
            "tags": []
          },
          "execution_count": 11
        }
      ]
    },
    {
      "cell_type": "code",
      "metadata": {
        "id": "6hRxmKjKvbJw"
      },
      "source": [
        "# define regression model\n",
        "def regression_model():\n",
        "    # create model\n",
        "    model = Sequential()\n",
        "    model.add(Dense(10, activation='relu', input_shape=(n_cols,)))\n",
        "    model.add(Dense(1))\n",
        "    \n",
        "    # compile model\n",
        "    model.compile(optimizer='adam', loss='mean_squared_error')\n",
        "    return model"
      ],
      "execution_count": null,
      "outputs": []
    },
    {
      "cell_type": "code",
      "metadata": {
        "id": "NFRm0FJ7vd8O",
        "colab": {
          "base_uri": "https://localhost:8080/"
        },
        "outputId": "cad3de2e-8599-42cd-dda3-84811b5dc464"
      },
      "source": [
        "# build the model\n",
        "model = regression_model()\n",
        "\n",
        "# fit the model\n",
        "model.fit(X_train, y_train, epochs=50, verbose=1)"
      ],
      "execution_count": null,
      "outputs": [
        {
          "output_type": "stream",
          "text": [
            "Epoch 1/50\n",
            "23/23 [==============================] - 0s 961us/step - loss: 1581.1930\n",
            "Epoch 2/50\n",
            "23/23 [==============================] - 0s 916us/step - loss: 1564.2495\n",
            "Epoch 3/50\n",
            "23/23 [==============================] - 0s 951us/step - loss: 1547.9241\n",
            "Epoch 4/50\n",
            "23/23 [==============================] - 0s 852us/step - loss: 1531.8738\n",
            "Epoch 5/50\n",
            "23/23 [==============================] - 0s 1ms/step - loss: 1516.1357\n",
            "Epoch 6/50\n",
            "23/23 [==============================] - 0s 915us/step - loss: 1500.2942\n",
            "Epoch 7/50\n",
            "23/23 [==============================] - 0s 956us/step - loss: 1484.5007\n",
            "Epoch 8/50\n",
            "23/23 [==============================] - 0s 982us/step - loss: 1468.1356\n",
            "Epoch 9/50\n",
            "23/23 [==============================] - 0s 972us/step - loss: 1451.7924\n",
            "Epoch 10/50\n",
            "23/23 [==============================] - 0s 1ms/step - loss: 1434.5088\n",
            "Epoch 11/50\n",
            "23/23 [==============================] - 0s 1ms/step - loss: 1416.9302\n",
            "Epoch 12/50\n",
            "23/23 [==============================] - 0s 1ms/step - loss: 1398.5305\n",
            "Epoch 13/50\n",
            "23/23 [==============================] - 0s 1ms/step - loss: 1379.8527\n",
            "Epoch 14/50\n",
            "23/23 [==============================] - 0s 1ms/step - loss: 1360.4014\n",
            "Epoch 15/50\n",
            "23/23 [==============================] - 0s 1ms/step - loss: 1340.1766\n",
            "Epoch 16/50\n",
            "23/23 [==============================] - 0s 1ms/step - loss: 1319.7227\n",
            "Epoch 17/50\n",
            "23/23 [==============================] - 0s 1ms/step - loss: 1298.2000\n",
            "Epoch 18/50\n",
            "23/23 [==============================] - 0s 1ms/step - loss: 1276.0586\n",
            "Epoch 19/50\n",
            "23/23 [==============================] - 0s 1ms/step - loss: 1253.4589\n",
            "Epoch 20/50\n",
            "23/23 [==============================] - 0s 1ms/step - loss: 1230.1239\n",
            "Epoch 21/50\n",
            "23/23 [==============================] - 0s 1ms/step - loss: 1206.2599\n",
            "Epoch 22/50\n",
            "23/23 [==============================] - 0s 1ms/step - loss: 1181.5530\n",
            "Epoch 23/50\n",
            "23/23 [==============================] - 0s 1ms/step - loss: 1156.6853\n",
            "Epoch 24/50\n",
            "23/23 [==============================] - 0s 1ms/step - loss: 1131.5312\n",
            "Epoch 25/50\n",
            "23/23 [==============================] - 0s 1ms/step - loss: 1105.6760\n",
            "Epoch 26/50\n",
            "23/23 [==============================] - 0s 990us/step - loss: 1079.1073\n",
            "Epoch 27/50\n",
            "23/23 [==============================] - 0s 1ms/step - loss: 1052.9390\n",
            "Epoch 28/50\n",
            "23/23 [==============================] - 0s 1ms/step - loss: 1025.9121\n",
            "Epoch 29/50\n",
            "23/23 [==============================] - 0s 1ms/step - loss: 999.1832\n",
            "Epoch 30/50\n",
            "23/23 [==============================] - 0s 1ms/step - loss: 972.3181\n",
            "Epoch 31/50\n",
            "23/23 [==============================] - 0s 1ms/step - loss: 944.8207\n",
            "Epoch 32/50\n",
            "23/23 [==============================] - 0s 1ms/step - loss: 917.7853\n",
            "Epoch 33/50\n",
            "23/23 [==============================] - 0s 992us/step - loss: 890.4332\n",
            "Epoch 34/50\n",
            "23/23 [==============================] - 0s 1ms/step - loss: 862.7991\n",
            "Epoch 35/50\n",
            "23/23 [==============================] - 0s 1ms/step - loss: 835.7795\n",
            "Epoch 36/50\n",
            "23/23 [==============================] - 0s 1ms/step - loss: 808.0573\n",
            "Epoch 37/50\n",
            "23/23 [==============================] - 0s 1ms/step - loss: 780.9340\n",
            "Epoch 38/50\n",
            "23/23 [==============================] - 0s 1ms/step - loss: 753.9451\n",
            "Epoch 39/50\n",
            "23/23 [==============================] - 0s 1ms/step - loss: 726.8176\n",
            "Epoch 40/50\n",
            "23/23 [==============================] - 0s 1ms/step - loss: 700.2919\n",
            "Epoch 41/50\n",
            "23/23 [==============================] - 0s 1ms/step - loss: 674.3062\n",
            "Epoch 42/50\n",
            "23/23 [==============================] - 0s 923us/step - loss: 648.4423\n",
            "Epoch 43/50\n",
            "23/23 [==============================] - 0s 1ms/step - loss: 623.8893\n",
            "Epoch 44/50\n",
            "23/23 [==============================] - 0s 959us/step - loss: 599.8550\n",
            "Epoch 45/50\n",
            "23/23 [==============================] - 0s 861us/step - loss: 576.3026\n",
            "Epoch 46/50\n",
            "23/23 [==============================] - 0s 1ms/step - loss: 553.7072\n",
            "Epoch 47/50\n",
            "23/23 [==============================] - 0s 1ms/step - loss: 532.2155\n",
            "Epoch 48/50\n",
            "23/23 [==============================] - 0s 989us/step - loss: 510.9229\n",
            "Epoch 49/50\n",
            "23/23 [==============================] - 0s 1ms/step - loss: 491.1116\n",
            "Epoch 50/50\n",
            "23/23 [==============================] - 0s 1ms/step - loss: 472.0462\n"
          ],
          "name": "stdout"
        },
        {
          "output_type": "execute_result",
          "data": {
            "text/plain": [
              "<tensorflow.python.keras.callbacks.History at 0x7f795f2e94e0>"
            ]
          },
          "metadata": {
            "tags": []
          },
          "execution_count": 16
        }
      ]
    },
    {
      "cell_type": "code",
      "metadata": {
        "id": "jsm_wapuvkod",
        "colab": {
          "base_uri": "https://localhost:8080/"
        },
        "outputId": "d67c0670-932c-4504-ec41-8283364a3958"
      },
      "source": [
        "# predict using X_test\n",
        "y_pred = model.predict(X_test)\n",
        "\n",
        "loss = mean_squared_error(y_test, y_pred)\n",
        "mean = np.mean(loss)\n",
        "standard_deviation = np.std(loss)\n",
        "\n",
        "print(\"Mean Squared error:\", mean)\n",
        "print(\"Standar Deviation:\", standard_deviation)"
      ],
      "execution_count": null,
      "outputs": [
        {
          "output_type": "stream",
          "text": [
            "Mean Squared error: 481.81112976091623\n",
            "Standar Deviation: 0.0\n"
          ],
          "name": "stdout"
        }
      ]
    },
    {
      "cell_type": "code",
      "metadata": {
        "id": "prnsH9gpvoZt",
        "colab": {
          "base_uri": "https://localhost:8080/"
        },
        "outputId": "397487ee-0f73-4820-f5a3-e74ae0c6f852"
      },
      "source": [
        "# Repeat 50 times\n",
        "total_mean_squared_errors = 50\n",
        "epochs = 50\n",
        "mean_squared_errors = []\n",
        "for i in range(0, total_mean_squared_errors):\n",
        "    # Split the dataset into training and test \n",
        "    X_train, X_test, y_train, y_test = train_test_split(predictors_norm, target, test_size=0.3, random_state=i)\n",
        "\n",
        "    # fit the model\n",
        "    model.fit(X_train, y_train, epochs=epochs, verbose=0)\n",
        "\n",
        "    # evaluate the model\n",
        "    MSE = model.evaluate(X_test, y_test, verbose=0)\n",
        "    print(\"MSE \"+str(i+1)+\": \"+str(MSE))\n",
        "\n",
        "    # predict using X_test\n",
        "    y_pred = model.predict(X_test)\n",
        "    mean_square_error = mean_squared_error(y_test, y_pred)\n",
        "    mean_squared_errors.append(mean_square_error)\n",
        "\n",
        "mean_squared_errors = np.array(mean_squared_errors)\n",
        "mean = np.mean(mean_squared_errors)\n",
        "standard_deviation = np.std(mean_squared_errors)\n",
        "\n",
        "print('\\n')\n",
        "print(\"Below is the mean and standard deviation of \" +str(total_mean_squared_errors) + \" mean squared errors without normalized data. Total number of epochs for each training is: \" +str(epochs) + \"\\n\")\n",
        "print(\"Mean: \"+str(mean))\n",
        "print(\"Standard Deviation: \"+str(standard_deviation))"
      ],
      "execution_count": null,
      "outputs": [
        {
          "output_type": "stream",
          "text": [
            "MSE 1: 117.98587036132812\n",
            "MSE 2: 130.67160034179688\n",
            "MSE 3: 109.93852233886719\n",
            "MSE 4: 119.9991683959961\n",
            "MSE 5: 119.77371215820312\n",
            "MSE 6: 103.49329376220703\n",
            "MSE 7: 122.73470306396484\n",
            "MSE 8: 90.0230484008789\n",
            "MSE 9: 102.3129653930664\n",
            "MSE 10: 87.09075164794922\n",
            "MSE 11: 76.0615463256836\n",
            "MSE 12: 67.12398529052734\n",
            "MSE 13: 78.74388122558594\n",
            "MSE 14: 79.6175765991211\n",
            "MSE 15: 68.93462371826172\n",
            "MSE 16: 59.00166320800781\n",
            "MSE 17: 54.29827880859375\n",
            "MSE 18: 49.0284309387207\n",
            "MSE 19: 43.213016510009766\n",
            "MSE 20: 40.92918395996094\n",
            "MSE 21: 36.91984176635742\n",
            "MSE 22: 39.06624984741211\n",
            "MSE 23: 35.2484245300293\n",
            "MSE 24: 35.95947265625\n",
            "MSE 25: 37.928199768066406\n",
            "MSE 26: 36.99430465698242\n",
            "MSE 27: 33.94084548950195\n",
            "MSE 28: 34.42399215698242\n",
            "MSE 29: 39.981468200683594\n",
            "MSE 30: 38.85337829589844\n",
            "MSE 31: 34.776222229003906\n",
            "MSE 32: 34.72682189941406\n",
            "MSE 33: 34.17285919189453\n",
            "MSE 34: 36.42433547973633\n",
            "MSE 35: 36.67631149291992\n",
            "MSE 36: 41.86855697631836\n",
            "MSE 37: 31.687143325805664\n",
            "MSE 38: 37.83971405029297\n",
            "MSE 39: 34.91993713378906\n",
            "MSE 40: 30.28179931640625\n",
            "MSE 41: 37.81065368652344\n",
            "MSE 42: 32.33198165893555\n",
            "MSE 43: 34.985416412353516\n",
            "MSE 44: 41.27669143676758\n",
            "MSE 45: 38.482872009277344\n",
            "MSE 46: 37.403236389160156\n",
            "MSE 47: 36.67691421508789\n",
            "MSE 48: 37.5994758605957\n",
            "MSE 49: 36.553497314453125\n",
            "MSE 50: 37.709922790527344\n",
            "\n",
            "\n",
            "Below is the mean and standard deviation of 50 mean squared errors without normalized data. Total number of epochs for each training is: 50\n",
            "\n",
            "Mean: 56.28992674947269\n",
            "Standard Deviation: 30.11543878064394\n"
          ],
          "name": "stdout"
        }
      ]
    }
  ]
}