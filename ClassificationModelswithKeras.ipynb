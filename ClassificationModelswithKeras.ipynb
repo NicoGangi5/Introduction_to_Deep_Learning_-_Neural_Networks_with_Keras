{
  "nbformat": 4,
  "nbformat_minor": 0,
  "metadata": {
    "colab": {
      "name": "ClassificationModelswithKeras.ipynb",
      "provenance": [],
      "authorship_tag": "ABX9TyP4/b3xDv21C9ow/XvdSr/B",
      "include_colab_link": true
    },
    "kernelspec": {
      "name": "python3",
      "display_name": "Python 3"
    }
  },
  "cells": [
    {
      "cell_type": "markdown",
      "metadata": {
        "id": "view-in-github",
        "colab_type": "text"
      },
      "source": [
        "<a href=\"https://colab.research.google.com/github/NicoGangi5/Introduction_to_Deep_Learning_-_Neural_Networks_with_Keras/blob/main/ClassificationModelswithKeras.ipynb\" target=\"_parent\"><img src=\"https://colab.research.google.com/assets/colab-badge.svg\" alt=\"Open In Colab\"/></a>"
      ]
    },
    {
      "cell_type": "code",
      "metadata": {
        "id": "8Qtx8H6npsZd"
      },
      "source": [
        "import keras\n",
        "\n",
        "from keras.models import Sequential\n",
        "from keras.layers import Dense\n",
        "from keras.utils import to_categorical\n",
        "import matplotlib.pyplot as plt"
      ],
      "execution_count": null,
      "outputs": []
    },
    {
      "cell_type": "code",
      "metadata": {
        "id": "-4Z6Qi7ip0V8",
        "colab": {
          "base_uri": "https://localhost:8080/"
        },
        "outputId": "6f34582f-d071-45af-a2c4-94bdcc182dd2"
      },
      "source": [
        "# import the data\n",
        "from keras.datasets import mnist\n",
        "\n",
        "# read the data\n",
        "(X_train, y_train), (X_test, y_test) = mnist.load_data()"
      ],
      "execution_count": null,
      "outputs": [
        {
          "output_type": "stream",
          "text": [
            "Downloading data from https://storage.googleapis.com/tensorflow/tf-keras-datasets/mnist.npz\n",
            "11493376/11490434 [==============================] - 0s 0us/step\n"
          ],
          "name": "stdout"
        }
      ]
    },
    {
      "cell_type": "code",
      "metadata": {
        "id": "JNPcH12hqEz8",
        "colab": {
          "base_uri": "https://localhost:8080/"
        },
        "outputId": "ea85138d-2b3e-427e-81f4-383d9c7c7a47"
      },
      "source": [
        "print(\"Train: \", X_train.shape)\n",
        "print(\"Test: \", X_test.shape)"
      ],
      "execution_count": null,
      "outputs": [
        {
          "output_type": "stream",
          "text": [
            "Train:  (60000, 28, 28)\n",
            "Test:  (10000, 28, 28)\n"
          ],
          "name": "stdout"
        }
      ]
    },
    {
      "cell_type": "code",
      "metadata": {
        "id": "URmxyzhQBNNw",
        "colab": {
          "base_uri": "https://localhost:8080/"
        },
        "outputId": "a66cbed8-5f18-425f-ecb8-a753d31b990f"
      },
      "source": [
        "type(X_train)"
      ],
      "execution_count": null,
      "outputs": [
        {
          "output_type": "execute_result",
          "data": {
            "text/plain": [
              "numpy.ndarray"
            ]
          },
          "metadata": {
            "tags": []
          },
          "execution_count": 4
        }
      ]
    },
    {
      "cell_type": "code",
      "metadata": {
        "id": "aOduTDq0qUzV",
        "colab": {
          "base_uri": "https://localhost:8080/",
          "height": 282
        },
        "outputId": "5f82aed2-f30a-4926-958d-d16ee2bd159c"
      },
      "source": [
        "plt.imshow(X_train[0])"
      ],
      "execution_count": null,
      "outputs": [
        {
          "output_type": "execute_result",
          "data": {
            "text/plain": [
              "<matplotlib.image.AxesImage at 0x7f84e0bbf4a8>"
            ]
          },
          "metadata": {
            "tags": []
          },
          "execution_count": 47
        },
        {
          "output_type": "display_data",
          "data": {
            "image/png": "[encoded data removed]",
            "text/plain": [
              "<Figure size 432x288 with 1 Axes>"
            ]
          },
          "metadata": {
            "tags": [],
            "needs_background": "light"
          }
        }
      ]
    },
    {
      "cell_type": "code",
      "metadata": {
        "id": "H8CwhF2mrizh"
      },
      "source": [
        "# flatten images into one-dimensional vector\n",
        "\n",
        "num_pixels = X_train.shape[1] * X_train.shape[2] # find size of one-dimensional vector\n",
        "\n",
        "X_train = X_train.reshape(X_train.shape[0], num_pixels).astype('float32') # flatten training images\n",
        "X_test = X_test.reshape(X_test.shape[0], num_pixels).astype('float32') # flatten test images"
      ],
      "execution_count": null,
      "outputs": []
    },
    {
      "cell_type": "code",
      "metadata": {
        "id": "eyYtmSREsmFM"
      },
      "source": [
        "# normalize inputs from 0-255 to 0-1\n",
        "X_train = X_train / 255\n",
        "X_test = X_test / 255"
      ],
      "execution_count": null,
      "outputs": []
    },
    {
      "cell_type": "code",
      "metadata": {
        "id": "CRVFQgbrs42i",
        "colab": {
          "base_uri": "https://localhost:8080/"
        },
        "outputId": "439bc742-5639-4293-dfcd-c510eb76d6e5"
      },
      "source": [
        "# one hot encode outputs\n",
        "y_train = to_categorical(y_train)\n",
        "y_test = to_categorical(y_test)\n",
        "\n",
        "num_classes = y_test.shape[1]\n",
        "print(num_classes)"
      ],
      "execution_count": null,
      "outputs": [
        {
          "output_type": "stream",
          "text": [
            "10\n"
          ],
          "name": "stdout"
        }
      ]
    },
    {
      "cell_type": "code",
      "metadata": {
        "id": "_P_GSVkctoXY"
      },
      "source": [
        "# define classification model\n",
        "def classification_model():\n",
        "    # create model\n",
        "    model = Sequential()\n",
        "    model.add(Dense(num_pixels, activation='relu', input_shape=(num_pixels,)))\n",
        "    model.add(Dense(100, activation='relu'))\n",
        "    model.add(Dense(100, activation='relu'))\n",
        "    model.add(Dense(num_classes, activation='softmax'))\n",
        "    \n",
        "    \n",
        "    # compile model\n",
        "    model.compile(optimizer='adam', loss='categorical_crossentropy', metrics=['accuracy'])\n",
        "    return model"
      ],
      "execution_count": null,
      "outputs": []
    },
    {
      "cell_type": "code",
      "metadata": {
        "id": "wfWAcMtttzng",
        "colab": {
          "base_uri": "https://localhost:8080/"
        },
        "outputId": "2d31c905-4c13-4b4c-8185-fccad3a903d1"
      },
      "source": [
        "# build the model\n",
        "model = classification_model()\n",
        "\n",
        "# fit the model\n",
        "model.fit(X_train, y_train, validation_data=(X_test, y_test), epochs=10, verbose=2)\n",
        "\n",
        "# evaluate the model\n",
        "scores = model.evaluate(X_test, y_test, verbose=0)"
      ],
      "execution_count": null,
      "outputs": [
        {
          "output_type": "stream",
          "text": [
            "Epoch 1/10\n",
            "1875/1875 - 12s - loss: 0.1945 - accuracy: 0.9412 - val_loss: 0.0912 - val_accuracy: 0.9703\n",
            "Epoch 2/10\n",
            "1875/1875 - 12s - loss: 0.0853 - accuracy: 0.9735 - val_loss: 0.0782 - val_accuracy: 0.9774\n",
            "Epoch 3/10\n",
            "1875/1875 - 12s - loss: 0.0607 - accuracy: 0.9814 - val_loss: 0.0720 - val_accuracy: 0.9796\n",
            "Epoch 4/10\n",
            "1875/1875 - 12s - loss: 0.0443 - accuracy: 0.9859 - val_loss: 0.0842 - val_accuracy: 0.9781\n",
            "Epoch 5/10\n",
            "1875/1875 - 12s - loss: 0.0372 - accuracy: 0.9882 - val_loss: 0.0847 - val_accuracy: 0.9765\n",
            "Epoch 6/10\n",
            "1875/1875 - 12s - loss: 0.0321 - accuracy: 0.9901 - val_loss: 0.0613 - val_accuracy: 0.9829\n",
            "Epoch 7/10\n",
            "1875/1875 - 12s - loss: 0.0270 - accuracy: 0.9916 - val_loss: 0.0674 - val_accuracy: 0.9821\n",
            "Epoch 8/10\n",
            "1875/1875 - 12s - loss: 0.0240 - accuracy: 0.9926 - val_loss: 0.0737 - val_accuracy: 0.9828\n",
            "Epoch 9/10\n",
            "1875/1875 - 12s - loss: 0.0206 - accuracy: 0.9938 - val_loss: 0.0764 - val_accuracy: 0.9809\n",
            "Epoch 10/10\n",
            "1875/1875 - 12s - loss: 0.0193 - accuracy: 0.9939 - val_loss: 0.0850 - val_accuracy: 0.9829\n"
          ],
          "name": "stdout"
        }
      ]
    },
    {
      "cell_type": "code",
      "metadata": {
        "id": "r138634mv8Lh",
        "colab": {
          "base_uri": "https://localhost:8080/"
        },
        "outputId": "679b1507-3bb9-43bd-e935-319456d076a6"
      },
      "source": [
        "print('Accuracy: {}% \\n Error: {}'.format(scores[1], 1 - scores[1]))"
      ],
      "execution_count": null,
      "outputs": [
        {
          "output_type": "stream",
          "text": [
            "Accuracy: 0.9811999797821045% \n",
            " Error: 0.018800020217895508\n"
          ],
          "name": "stdout"
        }
      ]
    },
    {
      "cell_type": "code",
      "metadata": {
        "id": "Tl6BBt6YwDkQ"
      },
      "source": [
        "model.save('classification_model.h5')"
      ],
      "execution_count": null,
      "outputs": []
    },
    {
      "cell_type": "code",
      "metadata": {
        "id": "HbbiZGVQwXkR"
      },
      "source": [
        "from keras.models import load_model\n",
        "\n",
        "pretrained_model = load_model('classification_model.h5')"
      ],
      "execution_count": null,
      "outputs": []
    }
  ]
}