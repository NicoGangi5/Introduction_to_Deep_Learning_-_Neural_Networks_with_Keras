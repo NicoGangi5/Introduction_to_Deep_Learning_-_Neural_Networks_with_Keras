{
  "nbformat": 4,
  "nbformat_minor": 0,
  "metadata": {
    "kernelspec": {
      "name": "python3",
      "display_name": "Python 3.7",
      "language": "python"
    },
    "language_info": {
      "name": "python",
      "version": "3.7.9",
      "mimetype": "text/x-python",
      "codemirror_mode": {
        "name": "ipython",
        "version": 3
      },
      "pygments_lexer": "ipython3",
      "nbconvert_exporter": "python",
      "file_extension": ".py"
    },
    "colab": {
      "name": "W1_Ejercicio1.ipynb",
      "provenance": [],
      "include_colab_link": true
    }
  },
  "cells": [
    {
      "cell_type": "markdown",
      "metadata": {
        "id": "view-in-github",
        "colab_type": "text"
      },
      "source": [
        "<a href=\"https://colab.research.google.com/github/NicoGangi5/Introduction_to_Deep_Learning_-_Neural_Networks_with_Keras/blob/main/W1_Ejercicio1.ipynb\" target=\"_parent\"><img src=\"https://colab.research.google.com/assets/colab-badge.svg\" alt=\"Open In Colab\"/></a>"
      ]
    },
    {
      "cell_type": "code",
      "metadata": {
        "id": "dmi1SSeAGubl",
        "outputId": "44a249c2-654f-4bbf-e4d3-5689a09c7df1"
      },
      "source": [
        "import numpy as np # import Numpy library to generate \n",
        "\n",
        "weights = np.around(np.random.uniform(size=6), decimals=2) # initialize the weights\n",
        "biases = np.around(np.random.uniform(size=3), decimals=2) # initialize the biases\n",
        "\n",
        "print(\"Weights: \",weights)\n",
        "print(\"Biases: \",biases)"
      ],
      "execution_count": null,
      "outputs": [
        {
          "output_type": "stream",
          "text": [
            "Weights:  [0.59 0.86 0.65 0.75 0.95 0.05]\n",
            "Biases:  [0.22 0.   0.17]\n"
          ],
          "name": "stdout"
        }
      ]
    },
    {
      "cell_type": "code",
      "metadata": {
        "id": "c7fuBgtrGubr",
        "outputId": "247f947d-94ce-401f-cd69-22e95cf8c8bc"
      },
      "source": [
        "x_1 = 0.5 # input 1\n",
        "x_2 = 0.85 # input 2\n",
        "\n",
        "print('x1 is {} and x2 is {}'.format(x_1, x_2))"
      ],
      "execution_count": null,
      "outputs": [
        {
          "output_type": "stream",
          "text": [
            "x1 is 0.5 and x2 is 0.85\n"
          ],
          "name": "stdout"
        }
      ]
    },
    {
      "cell_type": "code",
      "metadata": {
        "id": "e3b4ff3MGubu",
        "outputId": "67ff84a3-9dee-44e4-c282-238be1a3b726"
      },
      "source": [
        "z_11 = x_1 * weights[0] + x_2 * weights[1] + biases[0]\n",
        "\n",
        "print('The weighted sum of the inputs at the first node in the hidden layer is {}'.format(z_11))"
      ],
      "execution_count": null,
      "outputs": [
        {
          "output_type": "stream",
          "text": [
            "The weighted sum of the inputs at the first node in the hidden layer is 1.246\n"
          ],
          "name": "stdout"
        }
      ]
    },
    {
      "cell_type": "code",
      "metadata": {
        "id": "ro2UnXPeGubx",
        "outputId": "f59c89b7-662b-4ab0-d98b-18fcf0efda72"
      },
      "source": [
        "z_12 = x_1 * weights[2] + x_2 * weights[3] + biases[1]\n",
        "\n",
        "print('The weighted sum of the inputs at the first node in the hidden layer is {}'.format(z_12))"
      ],
      "execution_count": null,
      "outputs": [
        {
          "output_type": "stream",
          "text": [
            "The weighted sum of the inputs at the first node in the hidden layer is 0.9624999999999999\n"
          ],
          "name": "stdout"
        }
      ]
    },
    {
      "cell_type": "code",
      "metadata": {
        "id": "9YPRZioIGubz",
        "outputId": "05f50c54-7234-47c8-a22b-d1fe9c0831c5"
      },
      "source": [
        "a_11 = 1.0 / (1.0 + np.exp(-z_11))\n",
        "a_12 = 1.0 / (1.0 + np.exp(-z_12))\n",
        "\n",
        "print('The activation of the first node in the hidden layer is {}'.format(np.around(a_11, decimals=4)))\n",
        "print('The activation of the second node in the hidden layer is {}'.format(np.around(a_12, decimals=4)))"
      ],
      "execution_count": null,
      "outputs": [
        {
          "output_type": "stream",
          "text": [
            "The activation of the first node in the hidden layer is 0.7766\n",
            "The activation of the second node in the hidden layer is 0.7236\n"
          ],
          "name": "stdout"
        }
      ]
    },
    {
      "cell_type": "code",
      "metadata": {
        "id": "jojIGHH7Gub2",
        "outputId": "ad4f9e9b-da9b-4738-821d-e15e144d8b4c"
      },
      "source": [
        "z_2 = a_11 * weights[4] + a_12 * weights[5] + biases[2]\n",
        "\n",
        "print('The weighted sum of the inputs at the third node in the hidden layer is {}'.format(z_2))"
      ],
      "execution_count": null,
      "outputs": [
        {
          "output_type": "stream",
          "text": [
            "The weighted sum of the inputs at the first node in the hidden layer is 0.943957443738078\n"
          ],
          "name": "stdout"
        }
      ]
    },
    {
      "cell_type": "code",
      "metadata": {
        "id": "VYmE0DUuGub5",
        "outputId": "dd428785-efe8-4b47-f0da-23fab587ccce"
      },
      "source": [
        "a_2 = 1.0 / (1.0 + np.exp(-z_2))\n",
        "\n",
        "print('The activation of the third node in the hidden layer is {}'.format(np.around(a_2, decimals=4)))"
      ],
      "execution_count": null,
      "outputs": [
        {
          "output_type": "stream",
          "text": [
            "The activation of the third node in the hidden layer is 0.7199\n"
          ],
          "name": "stdout"
        }
      ]
    },
    {
      "cell_type": "markdown",
      "metadata": {
        "id": "eWGIlDx4Gub8"
      },
      "source": [
        "# Lets start with some efficient code"
      ]
    },
    {
      "cell_type": "code",
      "metadata": {
        "id": "UK8wj78EGub8"
      },
      "source": [
        "n = 2 # number of inputs\n",
        "num_hidden_layers = 2 # number of hidden layers\n",
        "m = [2, 2] # number of nodes in each hidden layer\n",
        "num_nodes_output = 1 # number of nodes in the output layer"
      ],
      "execution_count": null,
      "outputs": []
    },
    {
      "cell_type": "code",
      "metadata": {
        "id": "CYxgbj38Gub-",
        "outputId": "cf9f9180-ceec-4f34-9dd7-ee9b34f70c1d"
      },
      "source": [
        "import numpy as np # import the Numpy library\n",
        "\n",
        "num_nodes_previous = n # number of nodes in the previous layer\n",
        "\n",
        "network = {} # initialize network an an empty dictionary\n",
        "\n",
        "# loop through each layer and randomly initialize the weights and biases associated with each node\n",
        "# notice how we are adding 1 to the number of hidden layers in order to include the output layer\n",
        "for layer in range(num_hidden_layers + 1): \n",
        "    \n",
        "    # determine name of layer\n",
        "    if layer == num_hidden_layers:\n",
        "        layer_name = 'output'\n",
        "        num_nodes = num_nodes_output\n",
        "    else:\n",
        "        layer_name = 'layer_{}'.format(layer + 1)\n",
        "        num_nodes = m[layer]\n",
        "    \n",
        "    # initialize weights and biases associated with each node in the current layer\n",
        "    network[layer_name] = {}\n",
        "    for node in range(num_nodes):\n",
        "        node_name = 'node_{}'.format(node+1)\n",
        "        network[layer_name][node_name] = {\n",
        "            'weights': np.around(np.random.uniform(size=num_nodes_previous), decimals=2),\n",
        "            'bias': np.around(np.random.uniform(size=1), decimals=2),\n",
        "        }\n",
        "    \n",
        "    num_nodes_previous = num_nodes\n",
        "    \n",
        "print(network) # print network"
      ],
      "execution_count": null,
      "outputs": [
        {
          "output_type": "stream",
          "text": [
            "{'layer_1': {'node_1': {'weights': array([0.9 , 0.96]), 'bias': array([0.65])}, 'node_2': {'weights': array([0.77, 0.32]), 'bias': array([0.53])}}, 'layer_2': {'node_1': {'weights': array([0.99, 0.14]), 'bias': array([0.56])}, 'node_2': {'weights': array([0.1 , 0.91]), 'bias': array([0.45])}}, 'output': {'node_1': {'weights': array([0.8 , 0.59]), 'bias': array([0.68])}}}\n"
          ],
          "name": "stdout"
        }
      ]
    },
    {
      "cell_type": "code",
      "metadata": {
        "id": "iyiyndsVGucC"
      },
      "source": [
        "def initialize_network(num_inputs, num_hidden_layers, num_nodes_hidden, num_nodes_output):\n",
        "    \n",
        "    num_nodes_previous = num_inputs # number of nodes in the previous layer\n",
        "\n",
        "    network = {}\n",
        "    \n",
        "    # loop through each layer and randomly initialize the weights and biases associated with each layer\n",
        "    for layer in range(num_hidden_layers + 1):\n",
        "        \n",
        "        if layer == num_hidden_layers:\n",
        "            layer_name = 'output' # name last layer in the network output\n",
        "            num_nodes = num_nodes_output\n",
        "        else:\n",
        "            layer_name = 'layer_{}'.format(layer + 1) # otherwise give the layer a number\n",
        "            num_nodes = num_nodes_hidden[layer] \n",
        "        \n",
        "        # initialize weights and bias for each node\n",
        "        network[layer_name] = {}\n",
        "        for node in range(num_nodes):\n",
        "            node_name = 'node_{}'.format(node+1)\n",
        "            network[layer_name][node_name] = {\n",
        "                'weights': np.around(np.random.uniform(size=num_nodes_previous), decimals=2),\n",
        "                'bias': np.around(np.random.uniform(size=1), decimals=2),\n",
        "            }\n",
        "    \n",
        "        num_nodes_previous = num_nodes\n",
        "\n",
        "    return network # return the network"
      ],
      "execution_count": null,
      "outputs": []
    },
    {
      "cell_type": "markdown",
      "metadata": {
        "id": "CXfl9MmKGucE"
      },
      "source": [
        "Use the initialize_network function to create a network that:\n",
        "\n",
        "- Takes 5 inputs\n",
        "- Has three hidden layers\n",
        "- Has 3 nodes in the first layer, 2 nodes in the second layer, and 3 nodes in the third layer\n",
        "- Has 1 node in the output layer\n",
        "- Call the network small_network."
      ]
    },
    {
      "cell_type": "code",
      "metadata": {
        "id": "iMMNu4LtGucE",
        "outputId": "ca37b9a6-515a-4948-d45d-afa636090bff"
      },
      "source": [
        "n = 5 # number of inputs\n",
        "num_hidden_layers = 3 # number of hidden layers\n",
        "m = [3, 2, 3] # number of nodes in each hidden layer\n",
        "num_nodes_output = 1 # number of nodes in the output layer\n",
        "\n",
        "small_network = initialize_network(n, num_hidden_layers, m, num_nodes_output)\n",
        "print(small_network)"
      ],
      "execution_count": null,
      "outputs": [
        {
          "output_type": "stream",
          "text": [
            "{'layer_1': {'node_1': {'weights': array([0.92, 0.9 , 0.03, 0.96, 0.14]), 'bias': array([0.28])}, 'node_2': {'weights': array([0.61, 0.94, 0.85, 0.  , 0.52]), 'bias': array([0.55])}, 'node_3': {'weights': array([0.49, 0.77, 0.16, 0.76, 0.02]), 'bias': array([0.14])}}, 'layer_2': {'node_1': {'weights': array([0.12, 0.31, 0.67]), 'bias': array([0.47])}, 'node_2': {'weights': array([0.82, 0.29, 0.73]), 'bias': array([0.7])}}, 'layer_3': {'node_1': {'weights': array([0.33, 0.33]), 'bias': array([0.98])}, 'node_2': {'weights': array([0.62, 0.95]), 'bias': array([0.77])}, 'node_3': {'weights': array([0.83, 0.41]), 'bias': array([0.45])}}, 'output': {'node_1': {'weights': array([0.4 , 1.  , 0.18]), 'bias': array([0.96])}}}\n"
          ],
          "name": "stdout"
        }
      ]
    },
    {
      "cell_type": "markdown",
      "metadata": {
        "id": "3lbuVEnzGucG"
      },
      "source": [
        "Compute Weighted Sum at Each Node"
      ]
    },
    {
      "cell_type": "code",
      "metadata": {
        "id": "Xlq5Wg8DGucH"
      },
      "source": [
        "def compute_weighted_sum(inputs, weights, bias):\n",
        "    return np.sum(inputs * weights) + bias"
      ],
      "execution_count": null,
      "outputs": []
    },
    {
      "cell_type": "code",
      "metadata": {
        "id": "PqoP9pj-GucJ",
        "outputId": "1b7a0400-3998-48cb-fab3-ff5c8c2d5cda"
      },
      "source": [
        "from random import seed\n",
        "import numpy as np\n",
        "\n",
        "np.random.seed(12)\n",
        "inputs = np.around(np.random.uniform(size=5), decimals=2)\n",
        "\n",
        "print('The inputs to the network are {}'.format(inputs))"
      ],
      "execution_count": null,
      "outputs": [
        {
          "output_type": "stream",
          "text": [
            "The inputs to the network are [0.15 0.74 0.26 0.53 0.01]\n"
          ],
          "name": "stdout"
        }
      ]
    },
    {
      "cell_type": "code",
      "metadata": {
        "id": "EMvUHWvrGucL",
        "outputId": "a5aecd2b-63c6-4d17-fd5b-2d6337bd9a63"
      },
      "source": [
        "node_weights = small_network['layer_1']['node_1']['weights']\n",
        "node_bias = small_network['layer_1']['node_1']['bias']\n",
        "\n",
        "weighted_sum = compute_weighted_sum(inputs, node_weights, node_bias)\n",
        "print('The weighted sum at the first node in the hidden layer is {}'.format(np.around(weighted_sum[0], decimals=4)))"
      ],
      "execution_count": null,
      "outputs": [
        {
          "output_type": "stream",
          "text": [
            "The weighted sum at the first node in the hidden layer is 1.0939\n"
          ],
          "name": "stdout"
        }
      ]
    },
    {
      "cell_type": "markdown",
      "metadata": {
        "id": "zUOUgPdJGucO"
      },
      "source": [
        "Compute Node Activation"
      ]
    },
    {
      "cell_type": "code",
      "metadata": {
        "id": "Qec5ZyuJGucO"
      },
      "source": [
        "def node_activation(weighted_sum):\n",
        "    return 1.0 / (1.0 + np.exp(-1 * weighted_sum))"
      ],
      "execution_count": null,
      "outputs": []
    },
    {
      "cell_type": "code",
      "metadata": {
        "id": "rsP36nR4GucP",
        "outputId": "52854506-ac44-4c58-b621-d2abda5be1e5"
      },
      "source": [
        "node_output  = node_activation(weighted_sum)\n",
        "print('The output of the first node in the hidden layer is {}'.format(np.around(node_output[0], decimals=4)))"
      ],
      "execution_count": null,
      "outputs": [
        {
          "output_type": "stream",
          "text": [
            "The output of the first node in the hidden layer is 0.8323\n"
          ],
          "name": "stdout"
        }
      ]
    },
    {
      "cell_type": "markdown",
      "metadata": {
        "id": "5Ql_gItGGucR"
      },
      "source": [
        "Forward Propagation"
      ]
    },
    {
      "cell_type": "code",
      "metadata": {
        "id": "B3sozp_8GucR"
      },
      "source": [
        "def forward_propagate(network, inputs):\n",
        "    \n",
        "    layer_inputs = list(inputs) # start with the input layer as the input to the first hidden layer\n",
        "    \n",
        "    for layer in network:\n",
        "        \n",
        "        layer_data = network[layer]\n",
        "        \n",
        "        layer_outputs = [] \n",
        "        for layer_node in layer_data:\n",
        "        \n",
        "            node_data = layer_data[layer_node]\n",
        "        \n",
        "            # compute the weighted sum and the output of each node at the same time \n",
        "            node_output = node_activation(compute_weighted_sum(layer_inputs, node_data['weights'], node_data['bias']))\n",
        "            layer_outputs.append(np.around(node_output[0], decimals=4))\n",
        "            \n",
        "        if layer != 'output':\n",
        "            print('The outputs of the nodes in hidden layer number {} is {}'.format(layer.split('_')[1], layer_outputs))\n",
        "    \n",
        "        layer_inputs = layer_outputs # set the output of this layer to be the input to next layer\n",
        "\n",
        "    network_predictions = layer_outputs\n",
        "    return network_predictions"
      ],
      "execution_count": null,
      "outputs": []
    },
    {
      "cell_type": "code",
      "metadata": {
        "id": "RUNP40l7GucS",
        "outputId": "8a20993f-2e93-4d34-f3bf-a9dc8149084c"
      },
      "source": [
        "predictions = forward_propagate(small_network, inputs)\n",
        "print('The predicted value by the network for the given input is {}'.format(np.around(predictions[0], decimals=4)))"
      ],
      "execution_count": null,
      "outputs": [
        {
          "output_type": "stream",
          "text": [
            "The outputs of the nodes in hidden layer number 1 is [0.8323, 0.8268, 0.7735]\n",
            "The outputs of the nodes in hidden layer number 2 is [0.7932, 0.8991]\n",
            "The outputs of the nodes in hidden layer number 3 is [0.8232, 0.8924, 0.8141]\n",
            "The predicted value by the network for the given input is 0.9112\n"
          ],
          "name": "stdout"
        }
      ]
    },
    {
      "cell_type": "code",
      "metadata": {
        "id": "Dz2vPIfkGucU",
        "outputId": "3db737f2-9e88-43a8-8638-06237ba42144"
      },
      "source": [
        "my_network = initialize_network(5, 3, [2, 3, 2], 3)\n",
        "\n",
        "inputs = np.around(np.random.uniform(size=5), decimals=2)\n",
        "\n",
        "predictions = forward_propagate(my_network, inputs)\n",
        "print('The predicted values by the network for the given input are {}'.format(predictions))"
      ],
      "execution_count": null,
      "outputs": [
        {
          "output_type": "stream",
          "text": [
            "The outputs of the nodes in hidden layer number 1 is [0.8185, 0.881]\n",
            "The outputs of the nodes in hidden layer number 2 is [0.8123, 0.8025, 0.8112]\n",
            "The outputs of the nodes in hidden layer number 3 is [0.831, 0.8088]\n",
            "The predicted values by the network for the given input are [0.7777, 0.7998, 0.7398]\n"
          ],
          "name": "stdout"
        }
      ]
    }
  ]
}